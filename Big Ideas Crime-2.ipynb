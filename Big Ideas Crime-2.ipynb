{
 "cells": [
  {
   "cell_type": "markdown",
   "metadata": {},
   "source": [
    "## Introduction\n",
    "\n",
    "One of the biggest things to look for when searching for a neighborhood for a future home is how safe it is. Finding a neighborhood with a low amount of crime is better for a person and their family's safety. Living in a home knowing that you and your family is safe leaves people with a peaceful mind contributing to a better quality of life."
   ]
  },
  {
   "cell_type": "code",
   "execution_count": 15,
   "metadata": {},
   "outputs": [
    {
     "data": {
      "text/html": [
       "<div>\n",
       "<style scoped>\n",
       "    .dataframe tbody tr th:only-of-type {\n",
       "        vertical-align: middle;\n",
       "    }\n",
       "\n",
       "    .dataframe tbody tr th {\n",
       "        vertical-align: top;\n",
       "    }\n",
       "\n",
       "    .dataframe thead th {\n",
       "        text-align: right;\n",
       "    }\n",
       "</style>\n",
       "<table border=\"1\" class=\"dataframe\">\n",
       "  <thead>\n",
       "    <tr style=\"text-align: right;\">\n",
       "      <th></th>\n",
       "      <th>PK</th>\n",
       "      <th>CCR</th>\n",
       "      <th>HIERARCHY</th>\n",
       "      <th>INCIDENTTIME</th>\n",
       "      <th>INCIDENTLOCATION</th>\n",
       "      <th>CLEAREDFLAG</th>\n",
       "      <th>INCIDENTNEIGHBORHOOD</th>\n",
       "      <th>INCIDENTZONE</th>\n",
       "      <th>INCIDENTHIERARCHYDESC</th>\n",
       "      <th>OFFENSES</th>\n",
       "      <th>INCIDENTTRACT</th>\n",
       "      <th>COUNCIL_DISTRICT</th>\n",
       "      <th>PUBLIC_WORKS_DIVISION</th>\n",
       "      <th>X</th>\n",
       "      <th>Y</th>\n",
       "    </tr>\n",
       "  </thead>\n",
       "  <tbody>\n",
       "    <tr>\n",
       "      <th>0</th>\n",
       "      <td>2802309</td>\n",
       "      <td>16000001.0</td>\n",
       "      <td>10</td>\n",
       "      <td>2016-01-01T00:00:00</td>\n",
       "      <td>400 Block North Shore DR Pittsburgh, PA 15212</td>\n",
       "      <td>Y</td>\n",
       "      <td>North Shore</td>\n",
       "      <td>1</td>\n",
       "      <td>HARRASSMENT/THREAT/ATTEMPT/PHY</td>\n",
       "      <td>2702 Aggravated Assault. / 2709(a) Harassment....</td>\n",
       "      <td>2205.0</td>\n",
       "      <td>1.0</td>\n",
       "      <td>6.0</td>\n",
       "      <td>-80.012337</td>\n",
       "      <td>40.446263</td>\n",
       "    </tr>\n",
       "    <tr>\n",
       "      <th>1</th>\n",
       "      <td>2803174</td>\n",
       "      <td>16004547.0</td>\n",
       "      <td>11</td>\n",
       "      <td>2016-01-01T00:01:00</td>\n",
       "      <td>5400 Block Carnegie ST Pittsburgh, PA 15201</td>\n",
       "      <td>N</td>\n",
       "      <td>Upper Lawrenceville</td>\n",
       "      <td>2</td>\n",
       "      <td>THEFT BY DECEPTION</td>\n",
       "      <td>3922 Theft by Deception.</td>\n",
       "      <td>1011.0</td>\n",
       "      <td>7.0</td>\n",
       "      <td>2.0</td>\n",
       "      <td>-79.950295</td>\n",
       "      <td>40.482290</td>\n",
       "    </tr>\n",
       "    <tr>\n",
       "      <th>2</th>\n",
       "      <td>2801809</td>\n",
       "      <td>16000367.0</td>\n",
       "      <td>4</td>\n",
       "      <td>2016-01-01T00:10:00</td>\n",
       "      <td>500 Block Mt Pleasant RD Pittsburgh, PA 15214</td>\n",
       "      <td>N</td>\n",
       "      <td>Northview Heights</td>\n",
       "      <td>1</td>\n",
       "      <td>DISCHARGE OF FIREARM INTO OCC.STRUCTURE</td>\n",
       "      <td>2707.1 Discharge of a Firearm into Occupied St...</td>\n",
       "      <td>2609.0</td>\n",
       "      <td>1.0</td>\n",
       "      <td>1.0</td>\n",
       "      <td>-80.000966</td>\n",
       "      <td>40.478651</td>\n",
       "    </tr>\n",
       "    <tr>\n",
       "      <th>3</th>\n",
       "      <td>2802315</td>\n",
       "      <td>16000035.0</td>\n",
       "      <td>10</td>\n",
       "      <td>2016-01-01T00:15:00</td>\n",
       "      <td>300 Block Wood ST Pittsburgh, PA 15222</td>\n",
       "      <td>Y</td>\n",
       "      <td>Golden Triangle/Civic Arena</td>\n",
       "      <td>2</td>\n",
       "      <td>HARRASSMENT/THREAT/ATTEMPT/PHY</td>\n",
       "      <td>2709(a)(3) Harassment No Legitimate Purpose</td>\n",
       "      <td>201.0</td>\n",
       "      <td>6.0</td>\n",
       "      <td>6.0</td>\n",
       "      <td>-80.001251</td>\n",
       "      <td>40.438918</td>\n",
       "    </tr>\n",
       "    <tr>\n",
       "      <th>4</th>\n",
       "      <td>2802312</td>\n",
       "      <td>16000024.0</td>\n",
       "      <td>4</td>\n",
       "      <td>2016-01-01T00:16:00</td>\n",
       "      <td>500 Block Mt Pleasant RD Pittsburgh, PA 15214</td>\n",
       "      <td>N</td>\n",
       "      <td>Northview Heights</td>\n",
       "      <td>1</td>\n",
       "      <td>PROP MISSILE INTO OCC VEHICLE/OR ROADWAY</td>\n",
       "      <td>2705 Recklessy Endangering Another Person. / 3...</td>\n",
       "      <td>2609.0</td>\n",
       "      <td>1.0</td>\n",
       "      <td>1.0</td>\n",
       "      <td>-80.000966</td>\n",
       "      <td>40.478651</td>\n",
       "    </tr>\n",
       "  </tbody>\n",
       "</table>\n",
       "</div>"
      ],
      "text/plain": [
       "        PK         CCR  HIERARCHY         INCIDENTTIME  \\\n",
       "0  2802309  16000001.0         10  2016-01-01T00:00:00   \n",
       "1  2803174  16004547.0         11  2016-01-01T00:01:00   \n",
       "2  2801809  16000367.0          4  2016-01-01T00:10:00   \n",
       "3  2802315  16000035.0         10  2016-01-01T00:15:00   \n",
       "4  2802312  16000024.0          4  2016-01-01T00:16:00   \n",
       "\n",
       "                                INCIDENTLOCATION CLEAREDFLAG  \\\n",
       "0  400 Block North Shore DR Pittsburgh, PA 15212           Y   \n",
       "1    5400 Block Carnegie ST Pittsburgh, PA 15201           N   \n",
       "2  500 Block Mt Pleasant RD Pittsburgh, PA 15214           N   \n",
       "3         300 Block Wood ST Pittsburgh, PA 15222           Y   \n",
       "4  500 Block Mt Pleasant RD Pittsburgh, PA 15214           N   \n",
       "\n",
       "          INCIDENTNEIGHBORHOOD INCIDENTZONE  \\\n",
       "0                  North Shore            1   \n",
       "1          Upper Lawrenceville            2   \n",
       "2            Northview Heights            1   \n",
       "3  Golden Triangle/Civic Arena            2   \n",
       "4            Northview Heights            1   \n",
       "\n",
       "                      INCIDENTHIERARCHYDESC  \\\n",
       "0            HARRASSMENT/THREAT/ATTEMPT/PHY   \n",
       "1                        THEFT BY DECEPTION   \n",
       "2   DISCHARGE OF FIREARM INTO OCC.STRUCTURE   \n",
       "3            HARRASSMENT/THREAT/ATTEMPT/PHY   \n",
       "4  PROP MISSILE INTO OCC VEHICLE/OR ROADWAY   \n",
       "\n",
       "                                            OFFENSES  INCIDENTTRACT  \\\n",
       "0  2702 Aggravated Assault. / 2709(a) Harassment....         2205.0   \n",
       "1                           3922 Theft by Deception.         1011.0   \n",
       "2  2707.1 Discharge of a Firearm into Occupied St...         2609.0   \n",
       "3        2709(a)(3) Harassment No Legitimate Purpose          201.0   \n",
       "4  2705 Recklessy Endangering Another Person. / 3...         2609.0   \n",
       "\n",
       "   COUNCIL_DISTRICT  PUBLIC_WORKS_DIVISION          X          Y  \n",
       "0               1.0                    6.0 -80.012337  40.446263  \n",
       "1               7.0                    2.0 -79.950295  40.482290  \n",
       "2               1.0                    1.0 -80.000966  40.478651  \n",
       "3               6.0                    6.0 -80.001251  40.438918  \n",
       "4               1.0                    1.0 -80.000966  40.478651  "
      ]
     },
     "execution_count": 15,
     "metadata": {},
     "output_type": "execute_result"
    }
   ],
   "source": [
    "import pandas as pd\n",
    "import matplotlib.pyplot as plt\n",
    "#https://data.wprdc.org/dataset/uniform-crime-reporting-data/resource/044f2016-1dfd-4ab0-bc1e-065da05fca2e \n",
    "crime = pd.read_csv(\"044f2016-1dfd-4ab0-bc1e-065da05fca2e.csv\")\n",
    "\n",
    "crime.head()"
   ]
  },
  {
   "cell_type": "markdown",
   "metadata": {},
   "source": [
    "## Submetric\n",
    "For this submetric I am going to find out how many crimes have happened in each neighborhood since 2016. To do this I will look at the neighborhood name and then count how many times a neighborhood appears and then put it into a dictionary. "
   ]
  },
  {
   "cell_type": "code",
   "execution_count": 3,
   "metadata": {},
   "outputs": [
    {
     "name": "stdout",
     "output_type": "stream",
     "text": [
      "{'North Shore': 3424, 'Upper Lawrenceville': 1529, 'Northview Heights': 2462, 'Golden Triangle/Civic Arena': 4278, 'South Side Flats': 17627, 'Elliott': 2407, 'Homewood North': 6134, 'South Side Slopes': 3971, 'Carrick': 10945, 'South Oakland': 2223, nan: 6330, 'Bloomfield': 8150, 'Beechview': 5262, 'Bluff': 4330, 'Strip District': 3140, 'Mount Washington': 7053, 'East Carnegie': 389, 'Crafton Heights': 2611, 'Marshall-Shadeland': 5207, 'East Liberty': 7649, 'East Allegheny': 5569, 'Friendship': 1531, 'Arlington': 1973, 'Central Northside': 786, 'Spring Hill-City View': 2290, 'Brighton Heights': 5810, 'Westwood': 1536, 'East Hills': 4697, 'Brookline': 7130, 'South Shore': 1153, 'Lower Lawrenceville': 2380, 'Bedford Dwellings': 2432, 'Troy Hill-Herrs Island': 252, 'Central Oakland': 4879, 'Garfield': 3250, 'West End': 1162, 'West Oakland': 1809, 'Central Lawrenceville': 4104, 'Lincoln-Lemington-Belmar': 6272, 'Sheraden': 5596, 'Beltzhoover': 1928, 'Outside City': 2041, 'Squirrel Hill South': 7135, 'North Oakland': 4374, 'Allentown': 4896, 'Perry North': 2964, 'Homewood South': 6790, 'Shadyside': 8038, 'Manchester': 2078, 'Squirrel Hill North': 3785, 'Regent Square': 530, 'Homewood West': 2633, 'Allegheny Center': 3396, 'Highland Park': 4217, 'Middle Hill': 3806, 'Overbrook': 2103, 'Hazelwood': 5071, 'Greenfield': 3379, 'Morningside': 1446, 'Knoxville': 5974, 'Point Breeze': 2900, 'Duquesne Heights': 1081, 'Perry South': 3913, 'California-Kirkbride': 1697, 'Banksville': 1634, 'Point Breeze North': 2445, 'Bon Air': 1185, 'Polish Hill': 1016, 'Lincoln Place': 1558, 'Fineview': 1661, 'Spring Garden': 866, 'Larimer': 3600, 'Esplen': 649, 'Terrace Village': 1318, 'Allegheny West': 1026, 'Crawford-Roberts': 3704, 'Windgap': 825, 'Stanton Heights': 1753, 'Glen Hazel': 730, 'Upper Hill': 1815, 'Hays': 518, 'Ridgemont': 282, 'Oakwood': 583, 'Outside State': 344, 'Chateau': 2592, 'Swisshelm Park': 411, 'Outside County': 226, 'Fairywood': 753, 'Chartiers City': 311, 'Arlington Heights': 522, 'St. Clair': 634, 'Summer Hill': 488, 'Mt. Oliver Neighborhood': 117, 'New Homestead': 327, 'Mt. Oliver Boro': 94, 'Central Business District': 17353, 'Troy Hill': 1937, 'Central North Side': 2945, 'Mount Oliver': 480}\n"
     ]
    }
   ],
   "source": [
    "# Calculating how many crime have happened in each neighborhood\n",
    "crimeCount = dict()\n",
    "i = 0\n",
    "while i < len(crime):\n",
    "    neighborhood = crime.loc[i,'INCIDENTNEIGHBORHOOD']\n",
    "    if neighborhood in crimeCount.keys():\n",
    "        crimeCount[neighborhood] += 1\n",
    "    else: \n",
    "        crimeCount[neighborhood] = 1\n",
    "    i += 1\n",
    "\n",
    "print(crimeCount)"
   ]
  },
  {
   "cell_type": "code",
   "execution_count": 9,
   "metadata": {},
   "outputs": [
    {
     "name": "stdout",
     "output_type": "stream",
     "text": [
      "                            0      1\n",
      "0             Mt. Oliver Boro     94\n",
      "1     Mt. Oliver Neighborhood    117\n",
      "2              Outside County    226\n",
      "3      Troy Hill-Herrs Island    252\n",
      "4                   Ridgemont    282\n",
      "..                        ...    ...\n",
      "94                  Shadyside   8038\n",
      "95                 Bloomfield   8150\n",
      "96                    Carrick  10945\n",
      "97  Central Business District  17353\n",
      "98           South Side Flats  17627\n",
      "\n",
      "[99 rows x 2 columns]\n"
     ]
    }
   ],
   "source": [
    "sort = dict(sorted(crimeCount.items(), key=lambda item: item[1]))\n",
    "df = pd.DataFrame.from_dict(sort.items())\n",
    "print(df)"
   ]
  },
  {
   "cell_type": "code",
   "execution_count": 35,
   "metadata": {},
   "outputs": [
    {
     "data": {
      "text/plain": [
       "<matplotlib.axes._subplots.AxesSubplot at 0x7f6b35ac2070>"
      ]
     },
     "execution_count": 35,
     "metadata": {},
     "output_type": "execute_result"
    },
    {
     "data": {
      "image/png": "[encoded data removed]",
      "text/plain": [
       "<Figure size 432x288 with 1 Axes>"
      ]
     },
     "metadata": {
      "needs_background": "light"
     },
     "output_type": "display_data"
    }
   ],
   "source": [
    "df.groupby(0)[1].sum().nsmallest(5).plot(kind = \"bar\", ylim = (0, 20000), xlabel = \"Neighborhoods\", ylabel = \"# of crimes\", title = \"Top 5 Neighborhoods with the Least Amount of Crimes\")"
   ]
  },
  {
   "cell_type": "code",
   "execution_count": 36,
   "metadata": {},
   "outputs": [
    {
     "data": {
      "text/plain": [
       "<matplotlib.axes._subplots.AxesSubplot at 0x7f6b37587b80>"
      ]
     },
     "execution_count": 36,
     "metadata": {},
     "output_type": "execute_result"
    },
    {
     "data": {
      "image/png": "[encoded data removed]",
      "text/plain": [
       "<Figure size 432x288 with 1 Axes>"
      ]
     },
     "metadata": {
      "needs_background": "light"
     },
     "output_type": "display_data"
    }
   ],
   "source": [
    "df.groupby(0)[1].sum().nlargest(5).plot(kind =\"bar\", ylim = (0, 20000), xlabel = \"Neighborhoods\", ylabel = \"# of crimes\", title = \"Top 5 Neighborhoods with the Most Amount of Crimes\")"
   ]
  },
  {
   "cell_type": "markdown",
   "metadata": {},
   "source": [
    "## Conclusion\n",
    "As seen from the graphs there is a large difference between number of crimes between the neighborhoods.\n",
    "The 5 neighborhoods with least amount of crimes in order are:\n",
    "1. Mt. Oliver Boro\n",
    "2. Mt. Oliver Neighborhood\n",
    "3. Outside County\n",
    "4. Troy Hill-Herrs Island\n",
    "5. Ridgemont\n",
    "\n",
    "These 5 are the best when it comes to fewest amounts of crime."
   ]
  },
  {
   "cell_type": "code",
   "execution_count": null,
   "metadata": {},
   "outputs": [],
   "source": []
  }
 ],
 "metadata": {
  "kernelspec": {
   "display_name": "Python 3",
   "language": "python",
   "name": "python3"
  },
  "language_info": {
   "codemirror_mode": {
    "name": "ipython",
    "version": 3
   },
   "file_extension": ".py",
   "mimetype": "text/x-python",
   "name": "python",
   "nbconvert_exporter": "python",
   "pygments_lexer": "ipython3",
   "version": "3.8.3"
  }
 },
 "nbformat": 4,
 "nbformat_minor": 4
}
