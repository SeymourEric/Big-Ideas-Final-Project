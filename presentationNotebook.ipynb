{
 "cells": [
  {
   "cell_type": "markdown",
   "metadata": {},
   "source": [
    "# Introduction\n",
    "\n",
    "Welcome to our presentation on what the best neighborhood in Pittsburgh is. For our approach, we decided to focus on the general quality of living as our metric.\n",
    "\n",
    "Our inspiration for the metric began with considering what a future-homeowner or resident might consider when deciding where to live. We felt that such an individual would consider many factors, such as access to amenities, crime statistics, and more, which all falls in line with the quality of daily life in that neighborhood. We considered alternative metrics, such as economic growth, but ultimately decided that the general quality of living would be the largest factor for the residents. \n",
    "\n",
    "We hope that this project will not only help us identify the best neighborhood in Pittsburgh, but also provide valuable insights into what makes a neighborhood desirable."
   ]
  },
  {
   "cell_type": "markdown",
   "metadata": {},
   "source": [
    "# The Metric\n",
    "\n",
    "The metric of general quality of living refers to the overall well-being and livability of a neighborhood. It takes into account various factors that contribute to a high quality of life, and in our case, we focused on access to parks, traffic, and crime rates. Overall, we made our decision based on each neighborhoods ability to provide residents with a comfortable end enjoyable living experience, specifically through these submetrics.\n",
    "\n",
    "**Parks Submetric**\n",
    "1. Parks - https://data.wprdc.org/dataset/parks1\n",
    "\n",
    "This dataset, titled Parks, was collected by the City of Pittsburgh. It provides hundreds of parks, listing various variations of their names, acreage, square footage, maintenance responsibility, and even the type of park. The features we utilize are the various park names and square footage. Notably, this dataset is missing neighborhood names. \n",
    "\n",
    "2. City of Pittsburgh Parks - https://data.wprdc.org/dataset/parks\n",
    "\n",
    "The second dataset, City of Pittsburgh Parks, makes up for what the first dataset is missing by including neighborhood names. Other than that, it contains park names, types, as well as their public service divisions. The only features utilized are the park names and neighborhood names.\n",
    "\n",
    "**Traffic Submetric**\n",
    "\n",
    "1. Traffic Count - https://data.wprdc.org/dataset/traffic-count-data-city-of-pittsburgh\n",
    "\n",
    "Traffic is not enjoyable for anyone. This submetric looks at the amount of traffic over the past few years. The data provides the average count of daily car traffic in different neighborhoods. In theory, the less traffic there is in a neighborhood, the higher the quality of life will be. \n",
    "\n",
    "**Crime Submetric**\n",
    "\n"
   ]
  },
  {
   "cell_type": "markdown",
   "metadata": {},
   "source": [
    "### Parks"
   ]
  },
  {
   "cell_type": "markdown",
   "metadata": {},
   "source": [
    "Parks can substantially improve the quality of life in a neighborhood. They offer multiple benefits, such as providing recreational opportunities, enhancing the beauty of the area, and even boosting property values. The access to parks could also have a positive impact on physical and mental health by offering a place to congregate, exercise, and just enjoy the weather. They provide a safe and accessible space for the community.\n",
    "\n",
    "For these reasons, many individuals and families might prioritize living in neighborhoods with parks, making it a good way to determine the \"best\" neighborhood with the \"best\" quality of life. "
   ]
  },
  {
   "cell_type": "code",
   "execution_count": 2,
   "metadata": {},
   "outputs": [],
   "source": [
    "import pandas as pd\n",
    "import matplotlib.pyplot as plt"
   ]
  },
  {
   "cell_type": "code",
   "execution_count": 8,
   "metadata": {},
   "outputs": [],
   "source": [
    "#https://data.wprdc.org/dataset/parks1/resource/bb57d0a7-e8ee-4218-8906-0dedc903038c\n",
    "parks = pd.read_csv(\"park.csv\")\n",
    "#https://data.wprdc.org/dataset/parks/resource/fa329e3d-89ff-4708-8ddf-81bfedcad11d?inner_span=True\n",
    "parksWithArea = pd.read_csv(\"parksWithArea.csv\")"
   ]
  },
  {
   "cell_type": "markdown",
   "metadata": {},
   "source": [
    "For the metrics, we look at two seperate park-related datasets from WPRDC. The features we care about are the names of the parks, the neighborhoods the parks are located in, and the acreage of each park. \n",
    "\n",
    "One dataset contains neighborhood information, while the other contains acreage, so our process of cleaning ultimately combines the two."
   ]
  },
  {
   "cell_type": "code",
   "execution_count": 9,
   "metadata": {},
   "outputs": [
    {
     "data": {
      "text/html": [
       "<div>\n",
       "<style scoped>\n",
       "    .dataframe tbody tr th:only-of-type {\n",
       "        vertical-align: middle;\n",
       "    }\n",
       "\n",
       "    .dataframe tbody tr th {\n",
       "        vertical-align: top;\n",
       "    }\n",
       "\n",
       "    .dataframe thead th {\n",
       "        text-align: right;\n",
       "    }\n",
       "</style>\n",
       "<table border=\"1\" class=\"dataframe\">\n",
       "  <thead>\n",
       "    <tr style=\"text-align: right;\">\n",
       "      <th></th>\n",
       "      <th>id</th>\n",
       "      <th>name</th>\n",
       "      <th>type</th>\n",
       "      <th>maintenance_responsibility</th>\n",
       "      <th>image</th>\n",
       "      <th>neighborhood</th>\n",
       "      <th>council_district</th>\n",
       "      <th>ward</th>\n",
       "      <th>tract</th>\n",
       "      <th>public_works_division</th>\n",
       "      <th>pli_division</th>\n",
       "      <th>police_zone</th>\n",
       "      <th>fire_zone</th>\n",
       "      <th>latitude</th>\n",
       "      <th>longitude</th>\n",
       "    </tr>\n",
       "  </thead>\n",
       "  <tbody>\n",
       "    <tr>\n",
       "      <th>0</th>\n",
       "      <td>2111959181</td>\n",
       "      <td>Able Long Park</td>\n",
       "      <td>Park</td>\n",
       "      <td>Parks - Southern</td>\n",
       "      <td>https://tools.wprdc.org/images/pittsburgh/park...</td>\n",
       "      <td>Beechview</td>\n",
       "      <td>4</td>\n",
       "      <td>19</td>\n",
       "      <td>42003192000</td>\n",
       "      <td>5</td>\n",
       "      <td>19</td>\n",
       "      <td>6</td>\n",
       "      <td>4-28</td>\n",
       "      <td>40.408118</td>\n",
       "      <td>-80.028197</td>\n",
       "    </tr>\n",
       "    <tr>\n",
       "      <th>1</th>\n",
       "      <td>1109513049</td>\n",
       "      <td>Albert Turk Graham Park</td>\n",
       "      <td>Park</td>\n",
       "      <td>Parks - Schenley</td>\n",
       "      <td>https://tools.wprdc.org/images/pittsburgh/park...</td>\n",
       "      <td>Crawford-Roberts</td>\n",
       "      <td>6</td>\n",
       "      <td>3</td>\n",
       "      <td>42003030500</td>\n",
       "      <td>3</td>\n",
       "      <td>3</td>\n",
       "      <td>2</td>\n",
       "      <td>2-1</td>\n",
       "      <td>40.440507</td>\n",
       "      <td>-79.984018</td>\n",
       "    </tr>\n",
       "    <tr>\n",
       "      <th>2</th>\n",
       "      <td>1544096765</td>\n",
       "      <td>Alcoa Park</td>\n",
       "      <td>Park</td>\n",
       "      <td>Parks - Northern</td>\n",
       "      <td>NaN</td>\n",
       "      <td>North Shore</td>\n",
       "      <td>1</td>\n",
       "      <td>22</td>\n",
       "      <td>42003563200</td>\n",
       "      <td>6</td>\n",
       "      <td>22</td>\n",
       "      <td>1</td>\n",
       "      <td>1-20</td>\n",
       "      <td>40.447481</td>\n",
       "      <td>-80.001017</td>\n",
       "    </tr>\n",
       "    <tr>\n",
       "      <th>3</th>\n",
       "      <td>1212681573</td>\n",
       "      <td>Allegheny Commons</td>\n",
       "      <td>Park</td>\n",
       "      <td>Parks - Northern</td>\n",
       "      <td>NaN</td>\n",
       "      <td>Allegheny Center</td>\n",
       "      <td>1</td>\n",
       "      <td>22</td>\n",
       "      <td>42003562700</td>\n",
       "      <td>1</td>\n",
       "      <td>22</td>\n",
       "      <td>1</td>\n",
       "      <td>1-7</td>\n",
       "      <td>40.453126</td>\n",
       "      <td>-80.009158</td>\n",
       "    </tr>\n",
       "    <tr>\n",
       "      <th>4</th>\n",
       "      <td>954863286</td>\n",
       "      <td>Allegheny Landing Park</td>\n",
       "      <td>Park</td>\n",
       "      <td>Parks - Northern</td>\n",
       "      <td>NaN</td>\n",
       "      <td>North Shore</td>\n",
       "      <td>1</td>\n",
       "      <td>22</td>\n",
       "      <td>42003563200</td>\n",
       "      <td>6</td>\n",
       "      <td>22</td>\n",
       "      <td>1</td>\n",
       "      <td>1-20</td>\n",
       "      <td>40.447184</td>\n",
       "      <td>-80.002907</td>\n",
       "    </tr>\n",
       "  </tbody>\n",
       "</table>\n",
       "</div>"
      ],
      "text/plain": [
       "           id                     name  type maintenance_responsibility  \\\n",
       "0  2111959181           Able Long Park  Park           Parks - Southern   \n",
       "1  1109513049  Albert Turk Graham Park  Park           Parks - Schenley   \n",
       "2  1544096765               Alcoa Park  Park           Parks - Northern   \n",
       "3  1212681573        Allegheny Commons  Park           Parks - Northern   \n",
       "4   954863286   Allegheny Landing Park  Park           Parks - Northern   \n",
       "\n",
       "                                               image      neighborhood  \\\n",
       "0  https://tools.wprdc.org/images/pittsburgh/park...         Beechview   \n",
       "1  https://tools.wprdc.org/images/pittsburgh/park...  Crawford-Roberts   \n",
       "2                                                NaN       North Shore   \n",
       "3                                                NaN  Allegheny Center   \n",
       "4                                                NaN       North Shore   \n",
       "\n",
       "   council_district  ward        tract  public_works_division  pli_division  \\\n",
       "0                 4    19  42003192000                      5            19   \n",
       "1                 6     3  42003030500                      3             3   \n",
       "2                 1    22  42003563200                      6            22   \n",
       "3                 1    22  42003562700                      1            22   \n",
       "4                 1    22  42003563200                      6            22   \n",
       "\n",
       "   police_zone fire_zone   latitude  longitude  \n",
       "0            6      4-28  40.408118 -80.028197  \n",
       "1            2       2-1  40.440507 -79.984018  \n",
       "2            1      1-20  40.447481 -80.001017  \n",
       "3            1       1-7  40.453126 -80.009158  \n",
       "4            1      1-20  40.447184 -80.002907  "
      ]
     },
     "execution_count": 9,
     "metadata": {},
     "output_type": "execute_result"
    }
   ],
   "source": [
    "parks.head()"
   ]
  },
  {
   "cell_type": "code",
   "execution_count": 10,
   "metadata": {},
   "outputs": [
    {
     "data": {
      "text/html": [
       "<div>\n",
       "<style scoped>\n",
       "    .dataframe tbody tr th:only-of-type {\n",
       "        vertical-align: middle;\n",
       "    }\n",
       "\n",
       "    .dataframe tbody tr th {\n",
       "        vertical-align: top;\n",
       "    }\n",
       "\n",
       "    .dataframe thead th {\n",
       "        text-align: right;\n",
       "    }\n",
       "</style>\n",
       "<table border=\"1\" class=\"dataframe\">\n",
       "  <thead>\n",
       "    <tr style=\"text-align: right;\">\n",
       "      <th></th>\n",
       "      <th>objectid_1</th>\n",
       "      <th>objectid</th>\n",
       "      <th>acreage</th>\n",
       "      <th>sqft</th>\n",
       "      <th>final_cat</th>\n",
       "      <th>type</th>\n",
       "      <th>sector</th>\n",
       "      <th>origpkname</th>\n",
       "      <th>updatepknm</th>\n",
       "      <th>alterntnam</th>\n",
       "      <th>...</th>\n",
       "      <th>globalid</th>\n",
       "      <th>created_user</th>\n",
       "      <th>created_date</th>\n",
       "      <th>last_edited_user</th>\n",
       "      <th>last_edited_date</th>\n",
       "      <th>maintenanceresponsibility</th>\n",
       "      <th>dpw_ac</th>\n",
       "      <th>globalid_1</th>\n",
       "      <th>shape_area</th>\n",
       "      <th>shape_length</th>\n",
       "    </tr>\n",
       "  </thead>\n",
       "  <tbody>\n",
       "    <tr>\n",
       "      <th>0</th>\n",
       "      <td>1202</td>\n",
       "      <td>36</td>\n",
       "      <td>0.959034</td>\n",
       "      <td>41775.367101</td>\n",
       "      <td>Neighborhood Park</td>\n",
       "      <td>NP</td>\n",
       "      <td>15</td>\n",
       "      <td>Cliffside Parklet</td>\n",
       "      <td>August Wilson Park</td>\n",
       "      <td>Cliffside Park</td>\n",
       "      <td>...</td>\n",
       "      <td>764d9a2f-719c-49c2-b747-8f276149bf04</td>\n",
       "      <td>pgh.dcp.allisot</td>\n",
       "      <td>2023-03-21T14:04:58.979000+00:00</td>\n",
       "      <td>pgh.dcp.allisot</td>\n",
       "      <td>2023-03-21T14:04:58.979000+00:00</td>\n",
       "      <td>Parks - Schenley</td>\n",
       "      <td>0.959034</td>\n",
       "      <td>f781af9c-9ec2-4b5e-b5c5-9cc21608635c</td>\n",
       "      <td>6709.199219</td>\n",
       "      <td>390.397012</td>\n",
       "    </tr>\n",
       "    <tr>\n",
       "      <th>1</th>\n",
       "      <td>1203</td>\n",
       "      <td>198</td>\n",
       "      <td>2.060117</td>\n",
       "      <td>89738.347520</td>\n",
       "      <td>Neighborhood Park</td>\n",
       "      <td>NP</td>\n",
       "      <td>2</td>\n",
       "      <td>Young Field</td>\n",
       "      <td>Young Field Park</td>\n",
       "      <td>Young Park</td>\n",
       "      <td>...</td>\n",
       "      <td>9b969f67-1f2e-4f4b-8556-e4ac49ca208e</td>\n",
       "      <td>pgh.dcp.allisot</td>\n",
       "      <td>2023-03-21T14:04:58.979000+00:00</td>\n",
       "      <td>pgh.dcp.allisot</td>\n",
       "      <td>2023-03-21T14:04:58.979000+00:00</td>\n",
       "      <td>Parks - Riverview</td>\n",
       "      <td>2.060117</td>\n",
       "      <td>659c4c55-50fc-4883-8606-76f029fcca47</td>\n",
       "      <td>14423.417969</td>\n",
       "      <td>511.980181</td>\n",
       "    </tr>\n",
       "    <tr>\n",
       "      <th>2</th>\n",
       "      <td>1204</td>\n",
       "      <td>158</td>\n",
       "      <td>0.468682</td>\n",
       "      <td>20415.724875</td>\n",
       "      <td>Neighborhood Park</td>\n",
       "      <td>NP</td>\n",
       "      <td>8</td>\n",
       "      <td>Revenue Park</td>\n",
       "      <td>Roland Lockridge Community Park</td>\n",
       "      <td>Roland Lockridge Community Park</td>\n",
       "      <td>...</td>\n",
       "      <td>44bbbdf5-c2db-451c-b880-9251b8211455</td>\n",
       "      <td>pgh.dcp.allisot</td>\n",
       "      <td>2023-03-21T14:04:58.979000+00:00</td>\n",
       "      <td>pgh.dcp.allisot</td>\n",
       "      <td>2023-03-21T14:04:58.979000+00:00</td>\n",
       "      <td>Parks - Frick</td>\n",
       "      <td>0.468682</td>\n",
       "      <td>04e61cab-bea6-47dd-964a-0723197726cf</td>\n",
       "      <td>3273.722656</td>\n",
       "      <td>236.488235</td>\n",
       "    </tr>\n",
       "    <tr>\n",
       "      <th>3</th>\n",
       "      <td>1205</td>\n",
       "      <td>72</td>\n",
       "      <td>1.955430</td>\n",
       "      <td>85178.182207</td>\n",
       "      <td>Neighborhood Park</td>\n",
       "      <td>NP</td>\n",
       "      <td>12</td>\n",
       "      <td>Friendship Park</td>\n",
       "      <td>Friendship Park</td>\n",
       "      <td>Friendship Park</td>\n",
       "      <td>...</td>\n",
       "      <td>f95cbafc-dcd8-493f-8b98-89745c6434ca</td>\n",
       "      <td>pgh.dcp.allisot</td>\n",
       "      <td>2023-03-21T14:04:58.979000+00:00</td>\n",
       "      <td>pgh.dcp.allisot</td>\n",
       "      <td>2023-03-21T14:04:58.979000+00:00</td>\n",
       "      <td>Parks - Highland</td>\n",
       "      <td>1.955430</td>\n",
       "      <td>22563a68-61d3-46f3-9d5c-4558ee12be1f</td>\n",
       "      <td>13686.265625</td>\n",
       "      <td>760.982871</td>\n",
       "    </tr>\n",
       "    <tr>\n",
       "      <th>4</th>\n",
       "      <td>1206</td>\n",
       "      <td>87</td>\n",
       "      <td>5.108070</td>\n",
       "      <td>222506.623799</td>\n",
       "      <td>Neighborhood Park</td>\n",
       "      <td>NP</td>\n",
       "      <td>12</td>\n",
       "      <td>Heths Playground</td>\n",
       "      <td>Heth's Park</td>\n",
       "      <td>Heth's Park</td>\n",
       "      <td>...</td>\n",
       "      <td>a6a4ac92-5a00-4af5-9f11-716e51079fea</td>\n",
       "      <td>pgh.dcp.allisot</td>\n",
       "      <td>2023-03-21T14:04:58.979000+00:00</td>\n",
       "      <td>pgh.dcp.allisot</td>\n",
       "      <td>2023-03-21T14:04:58.979000+00:00</td>\n",
       "      <td>Parks - Highland</td>\n",
       "      <td>5.108070</td>\n",
       "      <td>b5b34833-e1d5-430f-afcc-40a1670d545d</td>\n",
       "      <td>35767.898438</td>\n",
       "      <td>875.156997</td>\n",
       "    </tr>\n",
       "  </tbody>\n",
       "</table>\n",
       "<p>5 rows × 22 columns</p>\n",
       "</div>"
      ],
      "text/plain": [
       "   objectid_1  objectid   acreage           sqft          final_cat type  \\\n",
       "0        1202        36  0.959034   41775.367101  Neighborhood Park   NP   \n",
       "1        1203       198  2.060117   89738.347520  Neighborhood Park   NP   \n",
       "2        1204       158  0.468682   20415.724875  Neighborhood Park   NP   \n",
       "3        1205        72  1.955430   85178.182207  Neighborhood Park   NP   \n",
       "4        1206        87  5.108070  222506.623799  Neighborhood Park   NP   \n",
       "\n",
       "   sector         origpkname                       updatepknm  \\\n",
       "0      15  Cliffside Parklet               August Wilson Park   \n",
       "1       2        Young Field                 Young Field Park   \n",
       "2       8       Revenue Park  Roland Lockridge Community Park   \n",
       "3      12    Friendship Park                  Friendship Park   \n",
       "4      12   Heths Playground                      Heth's Park   \n",
       "\n",
       "                        alterntnam  ...                              globalid  \\\n",
       "0                   Cliffside Park  ...  764d9a2f-719c-49c2-b747-8f276149bf04   \n",
       "1                       Young Park  ...  9b969f67-1f2e-4f4b-8556-e4ac49ca208e   \n",
       "2  Roland Lockridge Community Park  ...  44bbbdf5-c2db-451c-b880-9251b8211455   \n",
       "3                  Friendship Park  ...  f95cbafc-dcd8-493f-8b98-89745c6434ca   \n",
       "4                      Heth's Park  ...  a6a4ac92-5a00-4af5-9f11-716e51079fea   \n",
       "\n",
       "      created_user                      created_date last_edited_user  \\\n",
       "0  pgh.dcp.allisot  2023-03-21T14:04:58.979000+00:00  pgh.dcp.allisot   \n",
       "1  pgh.dcp.allisot  2023-03-21T14:04:58.979000+00:00  pgh.dcp.allisot   \n",
       "2  pgh.dcp.allisot  2023-03-21T14:04:58.979000+00:00  pgh.dcp.allisot   \n",
       "3  pgh.dcp.allisot  2023-03-21T14:04:58.979000+00:00  pgh.dcp.allisot   \n",
       "4  pgh.dcp.allisot  2023-03-21T14:04:58.979000+00:00  pgh.dcp.allisot   \n",
       "\n",
       "                   last_edited_date maintenanceresponsibility    dpw_ac  \\\n",
       "0  2023-03-21T14:04:58.979000+00:00          Parks - Schenley  0.959034   \n",
       "1  2023-03-21T14:04:58.979000+00:00         Parks - Riverview  2.060117   \n",
       "2  2023-03-21T14:04:58.979000+00:00             Parks - Frick  0.468682   \n",
       "3  2023-03-21T14:04:58.979000+00:00          Parks - Highland  1.955430   \n",
       "4  2023-03-21T14:04:58.979000+00:00          Parks - Highland  5.108070   \n",
       "\n",
       "                             globalid_1    shape_area shape_length  \n",
       "0  f781af9c-9ec2-4b5e-b5c5-9cc21608635c   6709.199219   390.397012  \n",
       "1  659c4c55-50fc-4883-8606-76f029fcca47  14423.417969   511.980181  \n",
       "2  04e61cab-bea6-47dd-964a-0723197726cf   3273.722656   236.488235  \n",
       "3  22563a68-61d3-46f3-9d5c-4558ee12be1f  13686.265625   760.982871  \n",
       "4  b5b34833-e1d5-430f-afcc-40a1670d545d  35767.898438   875.156997  \n",
       "\n",
       "[5 rows x 22 columns]"
      ]
     },
     "execution_count": 10,
     "metadata": {},
     "output_type": "execute_result"
    }
   ],
   "source": [
    "parksWithArea.head()"
   ]
  },
  {
   "cell_type": "code",
   "execution_count": 11,
   "metadata": {},
   "outputs": [],
   "source": [
    "#cleaning \n",
    "\n",
    "parks = parks.loc[parks.type==\"Park\"]\n",
    "parks = parks[['name','neighborhood']]\n",
    "\n",
    "parksWithArea = parksWithArea[['origpkname','updatepknm','alterntnam','acreage']]\n",
    "\n",
    "#merging parks with similar dataframe that includes area, left-merge to keep neighborhood names, dropna only removes 3\n",
    "#so it's inconsequential\n",
    "\n",
    "parks = pd.merge(left=parks, right=parksWithArea, how='left', left_on='name', right_on='updatepknm')\n",
    "parks = parks[['name','neighborhood','acreage']]\n",
    "parks = parks.dropna()"
   ]
  },
  {
   "cell_type": "markdown",
   "metadata": {},
   "source": [
    "The following graph shows the top 10 neighborhoods based on their total park acreage. By identifying the neighborhoods with the most park acreage, we can see which neighborhoods stand out as having significantly more, as well as generally understand which neighborhoods should be looked at for other metrics."
   ]
  },
  {
   "cell_type": "code",
   "execution_count": 12,
   "metadata": {},
   "outputs": [
    {
     "data": {
      "text/plain": [
       "<matplotlib.axes._subplots.AxesSubplot at 0x7fd28d82b730>"
      ]
     },
     "execution_count": 12,
     "metadata": {},
     "output_type": "execute_result"
    },
    {
     "data": {
      "image/png": "[encoded data removed]",
      "text/plain": [
       "<Figure size 432x288 with 1 Axes>"
      ]
     },
     "metadata": {
      "needs_background": "light"
     },
     "output_type": "display_data"
    }
   ],
   "source": [
    "parks.groupby('neighborhood')['acreage'].sum().nlargest(10).plot(kind=\"bar\",\n",
    "                                                                title=\"Top 10 Neighborhoods by Total Park Acreage\",\n",
    "                                                                xlabel=\"Neighborhoods\",\n",
    "                                                                ylabel=\"# of Park Acres\")"
   ]
  },
  {
   "cell_type": "markdown",
   "metadata": {},
   "source": [
    "The following graph shows the top 10 neighborhoods based on total number of parks. Unlike the previous metric, this graph doesn't allow for the neighborhoods with very large parks to stand out. Multiple different parks can give residents more options, as well as ensure that every resident has a park near them instead of just distant large ones. "
   ]
  },
  {
   "cell_type": "code",
   "execution_count": 13,
   "metadata": {},
   "outputs": [
    {
     "data": {
      "text/plain": [
       "<matplotlib.axes._subplots.AxesSubplot at 0x7fd28cb76820>"
      ]
     },
     "execution_count": 13,
     "metadata": {},
     "output_type": "execute_result"
    },
    {
     "data": {
      "image/png": "[encoded data removed]",
      "text/plain": [
       "<Figure size 432x288 with 1 Axes>"
      ]
     },
     "metadata": {
      "needs_background": "light"
     },
     "output_type": "display_data"
    }
   ],
   "source": [
    "parks.groupby('neighborhood')['name'].count().nlargest(10).plot(kind=\"bar\",\n",
    "                                                               title=\"Top 10 Neighborhoods by Total # of Parks\",\n",
    "                                                               xlabel=\"Neighborhoods\",\n",
    "                                                               ylabel=\"Total # of Parks\")"
   ]
  },
  {
   "cell_type": "markdown",
   "metadata": {},
   "source": [
    "By looking at both of these graphs, we see that the following neighborhoods are top 10 both in park quantity and park acreage:\n",
    "\n",
    "In acreage order:\n",
    "1. Beltzhoover 6\n",
    "2. South Side Slopes 4\n",
    "3. Mount Washington 6\n",
    "4. Sheraden 8\n",
    "5. Beechview 6\n",
    "\n",
    "In park # order:\n",
    "1. Beechview\n",
    "2. South Side Slopes\n",
    "3. Mount Washington\n",
    "4. Sheraden\n",
    "5. Beltzhoover\n",
    "\n",
    "By assigning each of these neighborhoods a number based on their order in both graphs, we can combine the numbers and determine a new order (with a lower number being ideal):\n",
    "\n",
    "1. South Side Slopes\n",
    "2. Beltzhoover\n",
    "2. Mount Washington\n",
    "2. Beechview\n",
    "3. Sheraden\n",
    "\n",
    "Beltzhoover, Mount Washington, and Beechview all tie for second. \n",
    "\n",
    "Based on this data, these 5 neighborhoods should be highly considered when looking at other metrics to determine the single neighborhood with the best quality of living."
   ]
  },
  {
   "cell_type": "markdown",
   "metadata": {},
   "source": [
    "## Crime submetric\n",
    "Crime dataset - https://data.wprdc.org/dataset/uniform-crime-reporting-data/resource/044f2016-1dfd-4ab0-bc1e-065da05fca2e \n",
    "\n",
    "This dataset is a record of every single crime that happened in the Pittsburgh neighborhood since 2016. The data holds general information about the crime, what neighborhood, the time and date of the crime, and its latitude and longitude.\n"
   ]
  },
  {
   "cell_type": "markdown",
   "metadata": {},
   "source": [
    "One of the biggest things to look for when searching for a neighborhood for your future home is its safety. Finding a neighborhood with low crime is generally ideal for an individual and their family's safety. Living in a home that you know is safe leaves people with a peace of mind that contributes to a better quality of life."
   ]
  },
  {
   "cell_type": "code",
   "execution_count": 3,
   "metadata": {},
   "outputs": [
    {
     "ename": "FileNotFoundError",
     "evalue": "[Errno 2] No such file or directory: '044f2016-1dfd-4ab0-bc1e-065da05fca2e.csv'",
     "output_type": "error",
     "traceback": [
      "\u001b[0;31m---------------------------------------------------------------------------\u001b[0m",
      "\u001b[0;31mFileNotFoundError\u001b[0m                         Traceback (most recent call last)",
      "\u001b[0;32m<ipython-input-3-82892db89bf3>\u001b[0m in \u001b[0;36m<module>\u001b[0;34m\u001b[0m\n\u001b[0;32m----> 1\u001b[0;31m \u001b[0mcrime\u001b[0m \u001b[0;34m=\u001b[0m \u001b[0mpd\u001b[0m\u001b[0;34m.\u001b[0m\u001b[0mread_csv\u001b[0m\u001b[0;34m(\u001b[0m\u001b[0;34m\"044f2016-1dfd-4ab0-bc1e-065da05fca2e.csv\"\u001b[0m\u001b[0;34m)\u001b[0m\u001b[0;34m\u001b[0m\u001b[0;34m\u001b[0m\u001b[0m\n\u001b[0m\u001b[1;32m      2\u001b[0m \u001b[0;34m\u001b[0m\u001b[0m\n\u001b[1;32m      3\u001b[0m \u001b[0mcrime\u001b[0m\u001b[0;34m.\u001b[0m\u001b[0mhead\u001b[0m\u001b[0;34m(\u001b[0m\u001b[0;34m)\u001b[0m\u001b[0;34m\u001b[0m\u001b[0;34m\u001b[0m\u001b[0m\n",
      "\u001b[0;32m/opt/tljh/user/lib/python3.8/site-packages/pandas/util/_decorators.py\u001b[0m in \u001b[0;36mwrapper\u001b[0;34m(*args, **kwargs)\u001b[0m\n\u001b[1;32m    309\u001b[0m                     \u001b[0mstacklevel\u001b[0m\u001b[0;34m=\u001b[0m\u001b[0mstacklevel\u001b[0m\u001b[0;34m,\u001b[0m\u001b[0;34m\u001b[0m\u001b[0;34m\u001b[0m\u001b[0m\n\u001b[1;32m    310\u001b[0m                 )\n\u001b[0;32m--> 311\u001b[0;31m             \u001b[0;32mreturn\u001b[0m \u001b[0mfunc\u001b[0m\u001b[0;34m(\u001b[0m\u001b[0;34m*\u001b[0m\u001b[0margs\u001b[0m\u001b[0;34m,\u001b[0m \u001b[0;34m**\u001b[0m\u001b[0mkwargs\u001b[0m\u001b[0;34m)\u001b[0m\u001b[0;34m\u001b[0m\u001b[0;34m\u001b[0m\u001b[0m\n\u001b[0m\u001b[1;32m    312\u001b[0m \u001b[0;34m\u001b[0m\u001b[0m\n\u001b[1;32m    313\u001b[0m         \u001b[0;32mreturn\u001b[0m \u001b[0mwrapper\u001b[0m\u001b[0;34m\u001b[0m\u001b[0;34m\u001b[0m\u001b[0m\n",
      "\u001b[0;32m/opt/tljh/user/lib/python3.8/site-packages/pandas/io/parsers/readers.py\u001b[0m in \u001b[0;36mread_csv\u001b[0;34m(filepath_or_buffer, sep, delimiter, header, names, index_col, usecols, squeeze, prefix, mangle_dupe_cols, dtype, engine, converters, true_values, false_values, skipinitialspace, skiprows, skipfooter, nrows, na_values, keep_default_na, na_filter, verbose, skip_blank_lines, parse_dates, infer_datetime_format, keep_date_col, date_parser, dayfirst, cache_dates, iterator, chunksize, compression, thousands, decimal, lineterminator, quotechar, quoting, doublequote, escapechar, comment, encoding, encoding_errors, dialect, error_bad_lines, warn_bad_lines, on_bad_lines, delim_whitespace, low_memory, memory_map, float_precision, storage_options)\u001b[0m\n\u001b[1;32m    678\u001b[0m     \u001b[0mkwds\u001b[0m\u001b[0;34m.\u001b[0m\u001b[0mupdate\u001b[0m\u001b[0;34m(\u001b[0m\u001b[0mkwds_defaults\u001b[0m\u001b[0;34m)\u001b[0m\u001b[0;34m\u001b[0m\u001b[0;34m\u001b[0m\u001b[0m\n\u001b[1;32m    679\u001b[0m \u001b[0;34m\u001b[0m\u001b[0m\n\u001b[0;32m--> 680\u001b[0;31m     \u001b[0;32mreturn\u001b[0m \u001b[0m_read\u001b[0m\u001b[0;34m(\u001b[0m\u001b[0mfilepath_or_buffer\u001b[0m\u001b[0;34m,\u001b[0m \u001b[0mkwds\u001b[0m\u001b[0;34m)\u001b[0m\u001b[0;34m\u001b[0m\u001b[0;34m\u001b[0m\u001b[0m\n\u001b[0m\u001b[1;32m    681\u001b[0m \u001b[0;34m\u001b[0m\u001b[0m\n\u001b[1;32m    682\u001b[0m \u001b[0;34m\u001b[0m\u001b[0m\n",
      "\u001b[0;32m/opt/tljh/user/lib/python3.8/site-packages/pandas/io/parsers/readers.py\u001b[0m in \u001b[0;36m_read\u001b[0;34m(filepath_or_buffer, kwds)\u001b[0m\n\u001b[1;32m    573\u001b[0m \u001b[0;34m\u001b[0m\u001b[0m\n\u001b[1;32m    574\u001b[0m     \u001b[0;31m# Create the parser.\u001b[0m\u001b[0;34m\u001b[0m\u001b[0;34m\u001b[0m\u001b[0;34m\u001b[0m\u001b[0m\n\u001b[0;32m--> 575\u001b[0;31m     \u001b[0mparser\u001b[0m \u001b[0;34m=\u001b[0m \u001b[0mTextFileReader\u001b[0m\u001b[0;34m(\u001b[0m\u001b[0mfilepath_or_buffer\u001b[0m\u001b[0;34m,\u001b[0m \u001b[0;34m**\u001b[0m\u001b[0mkwds\u001b[0m\u001b[0;34m)\u001b[0m\u001b[0;34m\u001b[0m\u001b[0;34m\u001b[0m\u001b[0m\n\u001b[0m\u001b[1;32m    576\u001b[0m \u001b[0;34m\u001b[0m\u001b[0m\n\u001b[1;32m    577\u001b[0m     \u001b[0;32mif\u001b[0m \u001b[0mchunksize\u001b[0m \u001b[0;32mor\u001b[0m \u001b[0miterator\u001b[0m\u001b[0;34m:\u001b[0m\u001b[0;34m\u001b[0m\u001b[0;34m\u001b[0m\u001b[0m\n",
      "\u001b[0;32m/opt/tljh/user/lib/python3.8/site-packages/pandas/io/parsers/readers.py\u001b[0m in \u001b[0;36m__init__\u001b[0;34m(self, f, engine, **kwds)\u001b[0m\n\u001b[1;32m    931\u001b[0m \u001b[0;34m\u001b[0m\u001b[0m\n\u001b[1;32m    932\u001b[0m         \u001b[0mself\u001b[0m\u001b[0;34m.\u001b[0m\u001b[0mhandles\u001b[0m\u001b[0;34m:\u001b[0m \u001b[0mIOHandles\u001b[0m \u001b[0;34m|\u001b[0m \u001b[0;32mNone\u001b[0m \u001b[0;34m=\u001b[0m \u001b[0;32mNone\u001b[0m\u001b[0;34m\u001b[0m\u001b[0;34m\u001b[0m\u001b[0m\n\u001b[0;32m--> 933\u001b[0;31m         \u001b[0mself\u001b[0m\u001b[0;34m.\u001b[0m\u001b[0m_engine\u001b[0m \u001b[0;34m=\u001b[0m \u001b[0mself\u001b[0m\u001b[0;34m.\u001b[0m\u001b[0m_make_engine\u001b[0m\u001b[0;34m(\u001b[0m\u001b[0mf\u001b[0m\u001b[0;34m,\u001b[0m \u001b[0mself\u001b[0m\u001b[0;34m.\u001b[0m\u001b[0mengine\u001b[0m\u001b[0;34m)\u001b[0m\u001b[0;34m\u001b[0m\u001b[0;34m\u001b[0m\u001b[0m\n\u001b[0m\u001b[1;32m    934\u001b[0m \u001b[0;34m\u001b[0m\u001b[0m\n\u001b[1;32m    935\u001b[0m     \u001b[0;32mdef\u001b[0m \u001b[0mclose\u001b[0m\u001b[0;34m(\u001b[0m\u001b[0mself\u001b[0m\u001b[0;34m)\u001b[0m\u001b[0;34m:\u001b[0m\u001b[0;34m\u001b[0m\u001b[0;34m\u001b[0m\u001b[0m\n",
      "\u001b[0;32m/opt/tljh/user/lib/python3.8/site-packages/pandas/io/parsers/readers.py\u001b[0m in \u001b[0;36m_make_engine\u001b[0;34m(self, f, engine)\u001b[0m\n\u001b[1;32m   1215\u001b[0m             \u001b[0;31m# \"Union[str, PathLike[str], ReadCsvBuffer[bytes], ReadCsvBuffer[str]]\"\u001b[0m\u001b[0;34m\u001b[0m\u001b[0;34m\u001b[0m\u001b[0;34m\u001b[0m\u001b[0m\n\u001b[1;32m   1216\u001b[0m             \u001b[0;31m# , \"str\", \"bool\", \"Any\", \"Any\", \"Any\", \"Any\", \"Any\"\u001b[0m\u001b[0;34m\u001b[0m\u001b[0;34m\u001b[0m\u001b[0;34m\u001b[0m\u001b[0m\n\u001b[0;32m-> 1217\u001b[0;31m             self.handles = get_handle(  # type: ignore[call-overload]\n\u001b[0m\u001b[1;32m   1218\u001b[0m                 \u001b[0mf\u001b[0m\u001b[0;34m,\u001b[0m\u001b[0;34m\u001b[0m\u001b[0;34m\u001b[0m\u001b[0m\n\u001b[1;32m   1219\u001b[0m                 \u001b[0mmode\u001b[0m\u001b[0;34m,\u001b[0m\u001b[0;34m\u001b[0m\u001b[0;34m\u001b[0m\u001b[0m\n",
      "\u001b[0;32m/opt/tljh/user/lib/python3.8/site-packages/pandas/io/common.py\u001b[0m in \u001b[0;36mget_handle\u001b[0;34m(path_or_buf, mode, encoding, compression, memory_map, is_text, errors, storage_options)\u001b[0m\n\u001b[1;32m    787\u001b[0m         \u001b[0;32mif\u001b[0m \u001b[0mioargs\u001b[0m\u001b[0;34m.\u001b[0m\u001b[0mencoding\u001b[0m \u001b[0;32mand\u001b[0m \u001b[0;34m\"b\"\u001b[0m \u001b[0;32mnot\u001b[0m \u001b[0;32min\u001b[0m \u001b[0mioargs\u001b[0m\u001b[0;34m.\u001b[0m\u001b[0mmode\u001b[0m\u001b[0;34m:\u001b[0m\u001b[0;34m\u001b[0m\u001b[0;34m\u001b[0m\u001b[0m\n\u001b[1;32m    788\u001b[0m             \u001b[0;31m# Encoding\u001b[0m\u001b[0;34m\u001b[0m\u001b[0;34m\u001b[0m\u001b[0;34m\u001b[0m\u001b[0m\n\u001b[0;32m--> 789\u001b[0;31m             handle = open(\n\u001b[0m\u001b[1;32m    790\u001b[0m                 \u001b[0mhandle\u001b[0m\u001b[0;34m,\u001b[0m\u001b[0;34m\u001b[0m\u001b[0;34m\u001b[0m\u001b[0m\n\u001b[1;32m    791\u001b[0m                 \u001b[0mioargs\u001b[0m\u001b[0;34m.\u001b[0m\u001b[0mmode\u001b[0m\u001b[0;34m,\u001b[0m\u001b[0;34m\u001b[0m\u001b[0;34m\u001b[0m\u001b[0m\n",
      "\u001b[0;31mFileNotFoundError\u001b[0m: [Errno 2] No such file or directory: '044f2016-1dfd-4ab0-bc1e-065da05fca2e.csv'"
     ]
    }
   ],
   "source": [
    "crime = pd.read_csv(\"044f2016-1dfd-4ab0-bc1e-065da05fca2e.csv\")\n",
    "\n",
    "crime.head()"
   ]
  },
  {
   "cell_type": "code",
   "execution_count": 4,
   "metadata": {},
   "outputs": [
    {
     "ename": "NameError",
     "evalue": "name 'crime' is not defined",
     "output_type": "error",
     "traceback": [
      "\u001b[0;31m---------------------------------------------------------------------------\u001b[0m",
      "\u001b[0;31mNameError\u001b[0m                                 Traceback (most recent call last)",
      "\u001b[0;32m<ipython-input-4-5713020cb113>\u001b[0m in \u001b[0;36m<module>\u001b[0;34m\u001b[0m\n\u001b[1;32m      2\u001b[0m \u001b[0mcrimeCount\u001b[0m \u001b[0;34m=\u001b[0m \u001b[0mdict\u001b[0m\u001b[0;34m(\u001b[0m\u001b[0;34m)\u001b[0m\u001b[0;34m\u001b[0m\u001b[0;34m\u001b[0m\u001b[0m\n\u001b[1;32m      3\u001b[0m \u001b[0mi\u001b[0m \u001b[0;34m=\u001b[0m \u001b[0;36m0\u001b[0m\u001b[0;34m\u001b[0m\u001b[0;34m\u001b[0m\u001b[0m\n\u001b[0;32m----> 4\u001b[0;31m \u001b[0;32mwhile\u001b[0m \u001b[0mi\u001b[0m \u001b[0;34m<\u001b[0m \u001b[0mlen\u001b[0m\u001b[0;34m(\u001b[0m\u001b[0mcrime\u001b[0m\u001b[0;34m)\u001b[0m\u001b[0;34m:\u001b[0m\u001b[0;34m\u001b[0m\u001b[0;34m\u001b[0m\u001b[0m\n\u001b[0m\u001b[1;32m      5\u001b[0m     \u001b[0mneighborhood\u001b[0m \u001b[0;34m=\u001b[0m \u001b[0mcrime\u001b[0m\u001b[0;34m.\u001b[0m\u001b[0mloc\u001b[0m\u001b[0;34m[\u001b[0m\u001b[0mi\u001b[0m\u001b[0;34m,\u001b[0m\u001b[0;34m'INCIDENTNEIGHBORHOOD'\u001b[0m\u001b[0;34m]\u001b[0m\u001b[0;34m\u001b[0m\u001b[0;34m\u001b[0m\u001b[0m\n\u001b[1;32m      6\u001b[0m     \u001b[0;32mif\u001b[0m \u001b[0mneighborhood\u001b[0m \u001b[0;32min\u001b[0m \u001b[0mcrimeCount\u001b[0m\u001b[0;34m.\u001b[0m\u001b[0mkeys\u001b[0m\u001b[0;34m(\u001b[0m\u001b[0;34m)\u001b[0m\u001b[0;34m:\u001b[0m\u001b[0;34m\u001b[0m\u001b[0;34m\u001b[0m\u001b[0m\n",
      "\u001b[0;31mNameError\u001b[0m: name 'crime' is not defined"
     ]
    }
   ],
   "source": [
    "# Calculating the number of crimes in each neighborhood\n",
    "crimeCount = dict()\n",
    "i = 0\n",
    "while i < len(crime):\n",
    "    neighborhood = crime.loc[i,'INCIDENTNEIGHBORHOOD']\n",
    "    if neighborhood in crimeCount.keys():\n",
    "        crimeCount[neighborhood] += 1\n",
    "    else: \n",
    "        crimeCount[neighborhood] = 1\n",
    "    i += 1\n",
    "\n",
    "print(crimeCount)"
   ]
  },
  {
   "cell_type": "code",
   "execution_count": 16,
   "metadata": {},
   "outputs": [
    {
     "name": "stdout",
     "output_type": "stream",
     "text": [
      "Empty DataFrame\n",
      "Columns: []\n",
      "Index: []\n"
     ]
    }
   ],
   "source": [
    "sort = dict(sorted(crimeCount.items(), key=lambda item: item[1]))\n",
    "df = pd.DataFrame.from_dict(sort.items())\n",
    "print(df)"
   ]
  },
  {
   "cell_type": "code",
   "execution_count": 17,
   "metadata": {},
   "outputs": [
    {
     "ename": "KeyError",
     "evalue": "0",
     "output_type": "error",
     "traceback": [
      "\u001b[0;31m---------------------------------------------------------------------------\u001b[0m",
      "\u001b[0;31mKeyError\u001b[0m                                  Traceback (most recent call last)",
      "\u001b[0;32m<ipython-input-17-7b0a06695ff9>\u001b[0m in \u001b[0;36m<module>\u001b[0;34m\u001b[0m\n\u001b[0;32m----> 1\u001b[0;31m \u001b[0mdf\u001b[0m\u001b[0;34m.\u001b[0m\u001b[0mgroupby\u001b[0m\u001b[0;34m(\u001b[0m\u001b[0;36m0\u001b[0m\u001b[0;34m)\u001b[0m\u001b[0;34m[\u001b[0m\u001b[0;36m1\u001b[0m\u001b[0;34m]\u001b[0m\u001b[0;34m.\u001b[0m\u001b[0msum\u001b[0m\u001b[0;34m(\u001b[0m\u001b[0;34m)\u001b[0m\u001b[0;34m.\u001b[0m\u001b[0mnsmallest\u001b[0m\u001b[0;34m(\u001b[0m\u001b[0;36m5\u001b[0m\u001b[0;34m)\u001b[0m\u001b[0;34m.\u001b[0m\u001b[0mplot\u001b[0m\u001b[0;34m(\u001b[0m\u001b[0mkind\u001b[0m \u001b[0;34m=\u001b[0m \u001b[0;34m\"bar\"\u001b[0m\u001b[0;34m,\u001b[0m \u001b[0mylim\u001b[0m \u001b[0;34m=\u001b[0m \u001b[0;34m(\u001b[0m\u001b[0;36m0\u001b[0m\u001b[0;34m,\u001b[0m \u001b[0;36m20000\u001b[0m\u001b[0;34m)\u001b[0m\u001b[0;34m,\u001b[0m \u001b[0mxlabel\u001b[0m \u001b[0;34m=\u001b[0m \u001b[0;34m\"Neighborhoods\"\u001b[0m\u001b[0;34m,\u001b[0m \u001b[0mylabel\u001b[0m \u001b[0;34m=\u001b[0m \u001b[0;34m\"# of crimes\"\u001b[0m\u001b[0;34m,\u001b[0m \u001b[0mtitle\u001b[0m \u001b[0;34m=\u001b[0m \u001b[0;34m\"Top 5 Neighborhoods with the Least Amount of Crimes\"\u001b[0m\u001b[0;34m)\u001b[0m\u001b[0;34m\u001b[0m\u001b[0;34m\u001b[0m\u001b[0m\n\u001b[0m",
      "\u001b[0;32m/opt/tljh/user/lib/python3.8/site-packages/pandas/core/frame.py\u001b[0m in \u001b[0;36mgroupby\u001b[0;34m(self, by, axis, level, as_index, sort, group_keys, squeeze, observed, dropna)\u001b[0m\n\u001b[1;32m   7704\u001b[0m         \u001b[0;31m# error: Argument \"squeeze\" to \"DataFrameGroupBy\" has incompatible type\u001b[0m\u001b[0;34m\u001b[0m\u001b[0;34m\u001b[0m\u001b[0;34m\u001b[0m\u001b[0m\n\u001b[1;32m   7705\u001b[0m         \u001b[0;31m# \"Union[bool, NoDefault]\"; expected \"bool\"\u001b[0m\u001b[0;34m\u001b[0m\u001b[0;34m\u001b[0m\u001b[0;34m\u001b[0m\u001b[0m\n\u001b[0;32m-> 7706\u001b[0;31m         return DataFrameGroupBy(\n\u001b[0m\u001b[1;32m   7707\u001b[0m             \u001b[0mobj\u001b[0m\u001b[0;34m=\u001b[0m\u001b[0mself\u001b[0m\u001b[0;34m,\u001b[0m\u001b[0;34m\u001b[0m\u001b[0;34m\u001b[0m\u001b[0m\n\u001b[1;32m   7708\u001b[0m             \u001b[0mkeys\u001b[0m\u001b[0;34m=\u001b[0m\u001b[0mby\u001b[0m\u001b[0;34m,\u001b[0m\u001b[0;34m\u001b[0m\u001b[0;34m\u001b[0m\u001b[0m\n",
      "\u001b[0;32m/opt/tljh/user/lib/python3.8/site-packages/pandas/core/groupby/groupby.py\u001b[0m in \u001b[0;36m__init__\u001b[0;34m(self, obj, keys, axis, level, grouper, exclusions, selection, as_index, sort, group_keys, squeeze, observed, mutated, dropna)\u001b[0m\n\u001b[1;32m    880\u001b[0m             \u001b[0;32mfrom\u001b[0m \u001b[0mpandas\u001b[0m\u001b[0;34m.\u001b[0m\u001b[0mcore\u001b[0m\u001b[0;34m.\u001b[0m\u001b[0mgroupby\u001b[0m\u001b[0;34m.\u001b[0m\u001b[0mgrouper\u001b[0m \u001b[0;32mimport\u001b[0m \u001b[0mget_grouper\u001b[0m\u001b[0;34m\u001b[0m\u001b[0;34m\u001b[0m\u001b[0m\n\u001b[1;32m    881\u001b[0m \u001b[0;34m\u001b[0m\u001b[0m\n\u001b[0;32m--> 882\u001b[0;31m             grouper, exclusions, obj = get_grouper(\n\u001b[0m\u001b[1;32m    883\u001b[0m                 \u001b[0mobj\u001b[0m\u001b[0;34m,\u001b[0m\u001b[0;34m\u001b[0m\u001b[0;34m\u001b[0m\u001b[0m\n\u001b[1;32m    884\u001b[0m                 \u001b[0mkeys\u001b[0m\u001b[0;34m,\u001b[0m\u001b[0;34m\u001b[0m\u001b[0;34m\u001b[0m\u001b[0m\n",
      "\u001b[0;32m/opt/tljh/user/lib/python3.8/site-packages/pandas/core/groupby/grouper.py\u001b[0m in \u001b[0;36mget_grouper\u001b[0;34m(obj, key, axis, level, sort, observed, mutated, validate, dropna)\u001b[0m\n\u001b[1;32m    880\u001b[0m                 \u001b[0min_axis\u001b[0m\u001b[0;34m,\u001b[0m \u001b[0mlevel\u001b[0m\u001b[0;34m,\u001b[0m \u001b[0mgpr\u001b[0m \u001b[0;34m=\u001b[0m \u001b[0;32mFalse\u001b[0m\u001b[0;34m,\u001b[0m \u001b[0mgpr\u001b[0m\u001b[0;34m,\u001b[0m \u001b[0;32mNone\u001b[0m\u001b[0;34m\u001b[0m\u001b[0;34m\u001b[0m\u001b[0m\n\u001b[1;32m    881\u001b[0m             \u001b[0;32melse\u001b[0m\u001b[0;34m:\u001b[0m\u001b[0;34m\u001b[0m\u001b[0;34m\u001b[0m\u001b[0m\n\u001b[0;32m--> 882\u001b[0;31m                 \u001b[0;32mraise\u001b[0m \u001b[0mKeyError\u001b[0m\u001b[0;34m(\u001b[0m\u001b[0mgpr\u001b[0m\u001b[0;34m)\u001b[0m\u001b[0;34m\u001b[0m\u001b[0;34m\u001b[0m\u001b[0m\n\u001b[0m\u001b[1;32m    883\u001b[0m         \u001b[0;32melif\u001b[0m \u001b[0misinstance\u001b[0m\u001b[0;34m(\u001b[0m\u001b[0mgpr\u001b[0m\u001b[0;34m,\u001b[0m \u001b[0mGrouper\u001b[0m\u001b[0;34m)\u001b[0m \u001b[0;32mand\u001b[0m \u001b[0mgpr\u001b[0m\u001b[0;34m.\u001b[0m\u001b[0mkey\u001b[0m \u001b[0;32mis\u001b[0m \u001b[0;32mnot\u001b[0m \u001b[0;32mNone\u001b[0m\u001b[0;34m:\u001b[0m\u001b[0;34m\u001b[0m\u001b[0;34m\u001b[0m\u001b[0m\n\u001b[1;32m    884\u001b[0m             \u001b[0;31m# Add key to exclusions\u001b[0m\u001b[0;34m\u001b[0m\u001b[0;34m\u001b[0m\u001b[0;34m\u001b[0m\u001b[0m\n",
      "\u001b[0;31mKeyError\u001b[0m: 0"
     ]
    }
   ],
   "source": [
    "df.groupby(0)[1].sum().nsmallest(5).plot(kind = \"bar\", ylim = (0, 20000), xlabel = \"Neighborhoods\", ylabel = \"# of crimes\", title = \"Top 5 Neighborhoods with the Least Amount of Crimes\")"
   ]
  },
  {
   "cell_type": "code",
   "execution_count": 7,
   "metadata": {},
   "outputs": [
    {
     "data": {
      "text/plain": [
       "<matplotlib.axes._subplots.AxesSubplot at 0x7ff9248230a0>"
      ]
     },
     "execution_count": 7,
     "metadata": {},
     "output_type": "execute_result"
    },
    {
     "data": {
      "image/png": "[encoded data removed]",
      "text/plain": [
       "<Figure size 432x288 with 1 Axes>"
      ]
     },
     "metadata": {
      "needs_background": "light"
     },
     "output_type": "display_data"
    }
   ],
   "source": [
    "df.groupby(0)[1].sum().nlargest(5).plot(kind =\"bar\", ylim = (0, 20000), xlabel = \"Neighborhoods\", ylabel = \"# of crimes\", title = \"Top 5 Neighborhoods with the Most Amount of Crimes\")"
   ]
  },
  {
   "cell_type": "markdown",
   "metadata": {},
   "source": [
    "As seen from the graphs, there is a large difference of number of crimes between the neighborhoods.\n",
    "The 5 neighborhoods with least crime in order are:\n",
    "1. Mt. Oliver Boro\n",
    "2. Mt. Oliver Neighborhood\n",
    "3. Outside County\n",
    "4. Troy Hill-Herrs Island\n",
    "5. Ridgemont\n",
    "\n",
    "These 5 are thus the best in quality of life when considering crime."
   ]
  },
  {
   "cell_type": "markdown",
   "metadata": {},
   "source": [
    "### Traffic Submetric\n",
    "\n",
    "Traffic Dataset: https://data.wprdc.org/dataset/traffic-count-data-city-of-pittsburgh/resource/6dfd4f8f-cbf5-4917-a5eb-fd07f4403167\n",
    "\n",
    "By cleaning the data and finding the neighborhoods with the least amount of traffic, we can determine a quality of life ranking based on this submetric."
   ]
  },
  {
   "cell_type": "markdown",
   "metadata": {},
   "source": [
    "##### Creating DataFrame"
   ]
  },
  {
   "cell_type": "code",
   "execution_count": 3,
   "metadata": {},
   "outputs": [
    {
     "data": {
      "text/html": [
       "<div>\n",
       "<style scoped>\n",
       "    .dataframe tbody tr th:only-of-type {\n",
       "        vertical-align: middle;\n",
       "    }\n",
       "\n",
       "    .dataframe tbody tr th {\n",
       "        vertical-align: top;\n",
       "    }\n",
       "\n",
       "    .dataframe thead th {\n",
       "        text-align: right;\n",
       "    }\n",
       "</style>\n",
       "<table border=\"1\" class=\"dataframe\">\n",
       "  <thead>\n",
       "    <tr style=\"text-align: right;\">\n",
       "      <th></th>\n",
       "      <th>id</th>\n",
       "      <th>device_id</th>\n",
       "      <th>record_oid</th>\n",
       "      <th>count_start_date</th>\n",
       "      <th>count_end_date</th>\n",
       "      <th>average_daily_car_traffic</th>\n",
       "      <th>average_daily_bike_traffic</th>\n",
       "      <th>counter_number</th>\n",
       "      <th>counter_type</th>\n",
       "      <th>speed_limit</th>\n",
       "      <th>...</th>\n",
       "      <th>longitude</th>\n",
       "      <th>latitude</th>\n",
       "      <th>neighborhood</th>\n",
       "      <th>council_district</th>\n",
       "      <th>ward</th>\n",
       "      <th>tract</th>\n",
       "      <th>public_works_division</th>\n",
       "      <th>pli_division</th>\n",
       "      <th>police_zone</th>\n",
       "      <th>fire_zone</th>\n",
       "    </tr>\n",
       "  </thead>\n",
       "  <tbody>\n",
       "    <tr>\n",
       "      <th>0</th>\n",
       "      <td>1011743669</td>\n",
       "      <td>85</td>\n",
       "      <td>1.445865e+09</td>\n",
       "      <td>2019-04-18</td>\n",
       "      <td>2019-04-26</td>\n",
       "      <td>4949.0</td>\n",
       "      <td>NaN</td>\n",
       "      <td>6</td>\n",
       "      <td>StatTrak</td>\n",
       "      <td>25.0</td>\n",
       "      <td>...</td>\n",
       "      <td>-79.967772</td>\n",
       "      <td>40.455733</td>\n",
       "      <td>Polish Hill</td>\n",
       "      <td>7.0</td>\n",
       "      <td>6.0</td>\n",
       "      <td>42003060500</td>\n",
       "      <td>6.0</td>\n",
       "      <td>6.0</td>\n",
       "      <td>2.0</td>\n",
       "      <td>2-6</td>\n",
       "    </tr>\n",
       "    <tr>\n",
       "      <th>1</th>\n",
       "      <td>1026101993</td>\n",
       "      <td>140</td>\n",
       "      <td>1.121444e+09</td>\n",
       "      <td>2019-01-24</td>\n",
       "      <td>NaN</td>\n",
       "      <td>NaN</td>\n",
       "      <td>NaN</td>\n",
       "      <td>NaN</td>\n",
       "      <td>Intersection Study</td>\n",
       "      <td>NaN</td>\n",
       "      <td>...</td>\n",
       "      <td>-79.952249</td>\n",
       "      <td>40.466157</td>\n",
       "      <td>Central Lawrenceville</td>\n",
       "      <td>7.0</td>\n",
       "      <td>9.0</td>\n",
       "      <td>42003090200</td>\n",
       "      <td>2.0</td>\n",
       "      <td>9.0</td>\n",
       "      <td>2.0</td>\n",
       "      <td>3-6</td>\n",
       "    </tr>\n",
       "    <tr>\n",
       "      <th>2</th>\n",
       "      <td>1032382575</td>\n",
       "      <td>11</td>\n",
       "      <td>1.539893e+09</td>\n",
       "      <td>2018-08-28</td>\n",
       "      <td>2018-09-04</td>\n",
       "      <td>NaN</td>\n",
       "      <td>NaN</td>\n",
       "      <td>NaN</td>\n",
       "      <td>NaN</td>\n",
       "      <td>35.0</td>\n",
       "      <td>...</td>\n",
       "      <td>-80.076469</td>\n",
       "      <td>40.460717</td>\n",
       "      <td>Windgap</td>\n",
       "      <td>2.0</td>\n",
       "      <td>28.0</td>\n",
       "      <td>42003563000</td>\n",
       "      <td>5.0</td>\n",
       "      <td>28.0</td>\n",
       "      <td>6.0</td>\n",
       "      <td>1-16</td>\n",
       "    </tr>\n",
       "    <tr>\n",
       "      <th>3</th>\n",
       "      <td>103627606</td>\n",
       "      <td>9</td>\n",
       "      <td>7.341951e+08</td>\n",
       "      <td>2018-07-17</td>\n",
       "      <td>2018-08-01</td>\n",
       "      <td>2741.0</td>\n",
       "      <td>NaN</td>\n",
       "      <td>NaN</td>\n",
       "      <td>StatTrak</td>\n",
       "      <td>25.0</td>\n",
       "      <td>...</td>\n",
       "      <td>-79.914335</td>\n",
       "      <td>40.437379</td>\n",
       "      <td>Squirrel Hill South</td>\n",
       "      <td>5.0</td>\n",
       "      <td>14.0</td>\n",
       "      <td>42003140800</td>\n",
       "      <td>3.0</td>\n",
       "      <td>14.0</td>\n",
       "      <td>4.0</td>\n",
       "      <td>2-18</td>\n",
       "    </tr>\n",
       "    <tr>\n",
       "      <th>4</th>\n",
       "      <td>1039546167</td>\n",
       "      <td>144</td>\n",
       "      <td>NaN</td>\n",
       "      <td>NaN</td>\n",
       "      <td>NaN</td>\n",
       "      <td>NaN</td>\n",
       "      <td>NaN</td>\n",
       "      <td>NaN</td>\n",
       "      <td>NaN</td>\n",
       "      <td>NaN</td>\n",
       "      <td>...</td>\n",
       "      <td>-80.019211</td>\n",
       "      <td>40.490794</td>\n",
       "      <td>Perry North</td>\n",
       "      <td>1.0</td>\n",
       "      <td>26.0</td>\n",
       "      <td>42003260200</td>\n",
       "      <td>1.0</td>\n",
       "      <td>26.0</td>\n",
       "      <td>1.0</td>\n",
       "      <td>1-15</td>\n",
       "    </tr>\n",
       "  </tbody>\n",
       "</table>\n",
       "<p>5 rows × 25 columns</p>\n",
       "</div>"
      ],
      "text/plain": [
       "           id  device_id    record_oid count_start_date count_end_date  \\\n",
       "0  1011743669         85  1.445865e+09       2019-04-18     2019-04-26   \n",
       "1  1026101993        140  1.121444e+09       2019-01-24            NaN   \n",
       "2  1032382575         11  1.539893e+09       2018-08-28     2018-09-04   \n",
       "3   103627606          9  7.341951e+08       2018-07-17     2018-08-01   \n",
       "4  1039546167        144           NaN              NaN            NaN   \n",
       "\n",
       "   average_daily_car_traffic  average_daily_bike_traffic counter_number  \\\n",
       "0                     4949.0                         NaN              6   \n",
       "1                        NaN                         NaN            NaN   \n",
       "2                        NaN                         NaN            NaN   \n",
       "3                     2741.0                         NaN            NaN   \n",
       "4                        NaN                         NaN            NaN   \n",
       "\n",
       "         counter_type  speed_limit  ...  longitude   latitude  \\\n",
       "0            StatTrak         25.0  ... -79.967772  40.455733   \n",
       "1  Intersection Study          NaN  ... -79.952249  40.466157   \n",
       "2                 NaN         35.0  ... -80.076469  40.460717   \n",
       "3            StatTrak         25.0  ... -79.914335  40.437379   \n",
       "4                 NaN          NaN  ... -80.019211  40.490794   \n",
       "\n",
       "            neighborhood  council_district  ward        tract  \\\n",
       "0            Polish Hill               7.0   6.0  42003060500   \n",
       "1  Central Lawrenceville               7.0   9.0  42003090200   \n",
       "2                Windgap               2.0  28.0  42003563000   \n",
       "3    Squirrel Hill South               5.0  14.0  42003140800   \n",
       "4            Perry North               1.0  26.0  42003260200   \n",
       "\n",
       "   public_works_division pli_division  police_zone  fire_zone  \n",
       "0                    6.0          6.0          2.0        2-6  \n",
       "1                    2.0          9.0          2.0        3-6  \n",
       "2                    5.0         28.0          6.0       1-16  \n",
       "3                    3.0         14.0          4.0       2-18  \n",
       "4                    1.0         26.0          1.0       1-15  \n",
       "\n",
       "[5 rows x 25 columns]"
      ]
     },
     "execution_count": 3,
     "metadata": {},
     "output_type": "execute_result"
    }
   ],
   "source": [
    "import pandas as pd\n",
    "\n",
    "#https://data.wprdc.org/dataset/traffic-count-data-city-of-pittsburgh\n",
    "traffic = pd.read_csv(\"traffic.csv\")\n",
    "\n",
    "traffic.head()"
   ]
  },
  {
   "cell_type": "markdown",
   "metadata": {},
   "source": [
    "##### Cleaning the data"
   ]
  },
  {
   "cell_type": "code",
   "execution_count": 4,
   "metadata": {},
   "outputs": [
    {
     "name": "stdout",
     "output_type": "stream",
     "text": [
      "{'Polish Hill': 15894.0, 'Squirrel Hill South': 45484.0, 'Central Northside': 1946.0, 'Bluff': 5365.0, 'Crafton Heights': 11500.0, 'Shadyside': 18801.0, 'Highland Park': 23471.0, 'North Shore': 10350.0, 'East Liberty': 51247.0, 'Mount Washington': 43715.0, 'Brookline': 14718.0, 'Squirrel Hill North': 17649.0, 'Bloomfield': 41920.0, 'Larimer': 31987.0, 'Friendship': 4887.0, 'Point Breeze': 24125.0, 'Regent Square': 16729.0, 'Central Lawrenceville': 9145.0, 'Knoxville': 527.0, 'Central Oakland': 4158.0, 'Strip District': 29075.0, 'Greenfield': 976.0, 'Windgap': 3062.0, 'Beechview': 4255.0, 'Upper Hill': 2860.0, 'Stanton Heights': 16272.0, 'Manchester': 11344.0, 'South Side Slopes': 9114.0, 'Perry North': 8987.0, 'North Oakland': 23821.0, 'East Hills': 13788.0, 'Duquesne Heights': 5831.0, 'Sheraden': 7180.0, 'Morningside': 5508.0, 'Central Business District': 2305.0, 'St. Clair': 2436.0, 'Perry South': 6943.0, 'Elliott': 3765.0, 'Carrick': 3457.0, 'Westwood': 15400.0, 'Allegheny Center': 2386.0, 'East Allegheny': 1924.0, 'Overbrook': 777.0, 'Allegheny West': 477.0, 'Marshall-Shadeland': 13534.0, 'Lower Lawrenceville': 3472.0, 'Arlington': 4571.0, 'Homewood North': 5357.0, 'Homewood South': 40321.0, 'Point Breeze North': 9928.0, 'Beltzhoover': 1577.0, 'Brighton Heights': 2679.0, 'California-Kirkbride': 5259.0, 'Spring Garden': 1226.0}\n"
     ]
    },
    {
     "data": {
      "text/html": [
       "<div>\n",
       "<style scoped>\n",
       "    .dataframe tbody tr th:only-of-type {\n",
       "        vertical-align: middle;\n",
       "    }\n",
       "\n",
       "    .dataframe tbody tr th {\n",
       "        vertical-align: top;\n",
       "    }\n",
       "\n",
       "    .dataframe thead th {\n",
       "        text-align: right;\n",
       "    }\n",
       "</style>\n",
       "<table border=\"1\" class=\"dataframe\">\n",
       "  <thead>\n",
       "    <tr style=\"text-align: right;\">\n",
       "      <th></th>\n",
       "      <th>neighborhood</th>\n",
       "      <th>average_daily_car_traffic</th>\n",
       "    </tr>\n",
       "  </thead>\n",
       "  <tbody>\n",
       "    <tr>\n",
       "      <th>0</th>\n",
       "      <td>Polish Hill</td>\n",
       "      <td>15894.0</td>\n",
       "    </tr>\n",
       "    <tr>\n",
       "      <th>1</th>\n",
       "      <td>Squirrel Hill South</td>\n",
       "      <td>45484.0</td>\n",
       "    </tr>\n",
       "    <tr>\n",
       "      <th>2</th>\n",
       "      <td>Central Northside</td>\n",
       "      <td>1946.0</td>\n",
       "    </tr>\n",
       "    <tr>\n",
       "      <th>3</th>\n",
       "      <td>Bluff</td>\n",
       "      <td>5365.0</td>\n",
       "    </tr>\n",
       "    <tr>\n",
       "      <th>4</th>\n",
       "      <td>Crafton Heights</td>\n",
       "      <td>11500.0</td>\n",
       "    </tr>\n",
       "  </tbody>\n",
       "</table>\n",
       "</div>"
      ],
      "text/plain": [
       "          neighborhood  average_daily_car_traffic\n",
       "0          Polish Hill                    15894.0\n",
       "1  Squirrel Hill South                    45484.0\n",
       "2    Central Northside                     1946.0\n",
       "3                Bluff                     5365.0\n",
       "4      Crafton Heights                    11500.0"
      ]
     },
     "execution_count": 4,
     "metadata": {},
     "output_type": "execute_result"
    }
   ],
   "source": [
    "\n",
    "# deletes all rows with null values in the columns we are focusing on\n",
    "traffic.dropna(subset=[\"average_daily_car_traffic\"], inplace=True)\n",
    "\n",
    "# Creates a dictionary of neighborhoods and car counts\n",
    "\n",
    "# In the original data set, there are duplicate neighborhoods\n",
    "# so this is done to combine the car counts from the different\n",
    "# years so that there is only one instance of each neighborhood\n",
    "\n",
    "trafficDict = dict()\n",
    "i=0\n",
    "while i < len(traffic):\n",
    "    try:\n",
    "        neighborhood = traffic.loc[i, \"neighborhood\"]\n",
    "        if neighborhood in trafficDict.keys():\n",
    "            trafficDict[neighborhood] += traffic.at[i, \"average_daily_car_traffic\"]\n",
    "        else:\n",
    "            trafficDict[neighborhood] = traffic.at[i, \"average_daily_car_traffic\"]\n",
    "        i += 1\n",
    "    except:\n",
    "        i += 1\n",
    "print(trafficDict)\n",
    "\n",
    "# turns the dictionary into a pandas DataFrame\n",
    "cleaned = pd.DataFrame(list(trafficDict.items()), columns =[\"neighborhood\", \"average_daily_car_traffic\"] )\n",
    "cleaned.head()"
   ]
  },
  {
   "cell_type": "markdown",
   "metadata": {},
   "source": [
    "##### Sorting Data"
   ]
  },
  {
   "cell_type": "code",
   "execution_count": 5,
   "metadata": {},
   "outputs": [
    {
     "data": {
      "text/html": [
       "<div>\n",
       "<style scoped>\n",
       "    .dataframe tbody tr th:only-of-type {\n",
       "        vertical-align: middle;\n",
       "    }\n",
       "\n",
       "    .dataframe tbody tr th {\n",
       "        vertical-align: top;\n",
       "    }\n",
       "\n",
       "    .dataframe thead th {\n",
       "        text-align: right;\n",
       "    }\n",
       "</style>\n",
       "<table border=\"1\" class=\"dataframe\">\n",
       "  <thead>\n",
       "    <tr style=\"text-align: right;\">\n",
       "      <th></th>\n",
       "      <th>neighborhood</th>\n",
       "      <th>average_daily_car_traffic</th>\n",
       "    </tr>\n",
       "  </thead>\n",
       "  <tbody>\n",
       "    <tr>\n",
       "      <th>43</th>\n",
       "      <td>Allegheny West</td>\n",
       "      <td>477.0</td>\n",
       "    </tr>\n",
       "    <tr>\n",
       "      <th>18</th>\n",
       "      <td>Knoxville</td>\n",
       "      <td>527.0</td>\n",
       "    </tr>\n",
       "    <tr>\n",
       "      <th>42</th>\n",
       "      <td>Overbrook</td>\n",
       "      <td>777.0</td>\n",
       "    </tr>\n",
       "    <tr>\n",
       "      <th>21</th>\n",
       "      <td>Greenfield</td>\n",
       "      <td>976.0</td>\n",
       "    </tr>\n",
       "    <tr>\n",
       "      <th>53</th>\n",
       "      <td>Spring Garden</td>\n",
       "      <td>1226.0</td>\n",
       "    </tr>\n",
       "    <tr>\n",
       "      <th>50</th>\n",
       "      <td>Beltzhoover</td>\n",
       "      <td>1577.0</td>\n",
       "    </tr>\n",
       "    <tr>\n",
       "      <th>41</th>\n",
       "      <td>East Allegheny</td>\n",
       "      <td>1924.0</td>\n",
       "    </tr>\n",
       "    <tr>\n",
       "      <th>2</th>\n",
       "      <td>Central Northside</td>\n",
       "      <td>1946.0</td>\n",
       "    </tr>\n",
       "    <tr>\n",
       "      <th>34</th>\n",
       "      <td>Central Business District</td>\n",
       "      <td>2305.0</td>\n",
       "    </tr>\n",
       "    <tr>\n",
       "      <th>40</th>\n",
       "      <td>Allegheny Center</td>\n",
       "      <td>2386.0</td>\n",
       "    </tr>\n",
       "  </tbody>\n",
       "</table>\n",
       "</div>"
      ],
      "text/plain": [
       "                 neighborhood  average_daily_car_traffic\n",
       "43             Allegheny West                      477.0\n",
       "18                  Knoxville                      527.0\n",
       "42                  Overbrook                      777.0\n",
       "21                 Greenfield                      976.0\n",
       "53              Spring Garden                     1226.0\n",
       "50                Beltzhoover                     1577.0\n",
       "41             East Allegheny                     1924.0\n",
       "2           Central Northside                     1946.0\n",
       "34  Central Business District                     2305.0\n",
       "40           Allegheny Center                     2386.0"
      ]
     },
     "execution_count": 5,
     "metadata": {},
     "output_type": "execute_result"
    }
   ],
   "source": [
    "# sorts by car traffic from least to greatest\n",
    "cleaned.sort_values(\"average_daily_car_traffic\", ascending=True, inplace=True)\n",
    "cleaned.head(10)"
   ]
  },
  {
   "cell_type": "markdown",
   "metadata": {},
   "source": [
    "Ranking according to traffic count\n",
    "\n",
    "1. Allegheny West\n",
    "2. Knoxville\n",
    "3. Overbrook\n",
    "4. Greenfield\n",
    "5. Spring Garden\n",
    "6. Beltzhoover"
   ]
  },
  {
   "cell_type": "markdown",
   "metadata": {},
   "source": [
    "##### Conclusion"
   ]
  },
  {
   "cell_type": "markdown",
   "metadata": {},
   "source": [
    "After cleaning and sorting the data, the ranking neighborhoods with the least amount of traffic has been produced. Based on this ranking, Allegheny West has the least amount of total traffic, and would therefore have the highest quality of life by this submetric."
   ]
  },
  {
   "cell_type": "markdown",
   "metadata": {},
   "source": [
    "# The Best Neighborhood\n",
    "Apply the metric from the previous section to determine the best neighborhood in Pittsburgh. Beyond just executing code, provide a narrative about why you think this is the best neighborhood. Incorporate a data visualization, perhaps to rank all of the neighborhoods or show a neighborhood’s best-ness over time. The key is to make a data driven argument.\n",
    "\n",
    "\n",
    "Based on the data, we determined that Beltzhoover is the best neighborhood in Pittsburgh according to our metrics. We mainly considered the parks and traffic submetrics, where Beltzhoover ranked second and sixth, respectively. It was the only overlap from the top-scorers in both of those datasets. In crime, Beltzhoover ranked X, which, while low, still puts it in the top X% of neighborhoods. Therefore, we still believe it is still valid to call Beltzhoover the best neighborhood."
   ]
  },
  {
   "cell_type": "markdown",
   "metadata": {},
   "source": [
    "# Conclusion\n",
    "Reflect on how the data driven determination of “best neighborhood” is the same or different from your personal favorite neighborhood. Each member of the group should write their own response to this.\n",
    "\n",
    "Austin - I do agree that the determined best neighborhood based on our metrics is a valid conclusion, it is different than what I consider to be the best neighborhood here. While I don't have much experience with the majority of them, from my personal experience I believe that North Oakland or Shadyside are the best.\n",
    "\n",
    "Tobias - While I am not from Pittsburgh and thus do not have a favorite neighborhood due to lack of experience with most of them, I think our data-driven result is valid. Both parks and traffic are features I'd highly consider if I was picking a neighborhood, and Beltzhoover's top scores in both of those areas is commendable. With crime, it is worth considering that a nicer neighborhood could produce more crime reports due to factors like more trust in the police force or more valuable property to protect. Additionally, a nicer neighborhood could be a more valuable target for crime. More reports of crime does not necessarily determine the quality of life of a neighborhood. In a more extensive report focused on crime, one should consider other factors such as the type of crime or severity of the crimes."
   ]
  },
  {
   "cell_type": "code",
   "execution_count": null,
   "metadata": {},
   "outputs": [],
   "source": []
  }
 ],
 "metadata": {
  "kernelspec": {
   "display_name": "Python 3",
   "language": "python",
   "name": "python3"
  },
  "language_info": {
   "codemirror_mode": {
    "name": "ipython",
    "version": 3
   },
   "file_extension": ".py",
   "mimetype": "text/x-python",
   "name": "python",
   "nbconvert_exporter": "python",
   "pygments_lexer": "ipython3",
   "version": "3.8.3"
  }
 },
 "nbformat": 4,
 "nbformat_minor": 5
}
