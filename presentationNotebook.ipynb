{
 "cells": [
  {
   "cell_type": "markdown",
   "metadata": {},
   "source": [
    "# Introduction\n",
    "\n",
    "Welcome to our presentation on what the best neighborhood in Pittsburgh is. For our approach, we decided to focus on the general quality of living as our metric.\n",
    "\n",
    "Our inspiration for the metric began with considering what a future-homeowner or resident might consider when deciding where to live. We felt that such an individual would consider many factors, such as access to amenities, crime statistics, and more, which all falls in line with the quality of daily life in that neighborhood. We considered alternative metrics, such as economic growth, but ultimately decided that the general quality of living would be the largest factor for the residents. \n",
    "\n",
    "We hope that this project will not only help us identify the best neighborhood in Pittsburgh, but also provide valuable insights into what makes a neighborhood desirable."
   ]
  },
  {
   "cell_type": "markdown",
   "metadata": {},
   "source": [
    "# The Metric\n",
    "\n",
    "Describe your metric, what features are you measuring. What datasets are you using?\n",
    "\n",
    "**Parks Submetric**\n",
    "1. Parks - https://data.wprdc.org/dataset/parks1\n",
    "\n",
    "This dataset, titled Parks, was collected by the City of Pittsburgh. It provides hundreds of parks, listing various variations of their names, acreage, square footage, maintenance responsibility, and even the type of park. The features we utilize are the various park names and square footage. Notably, this dataset is missing neighborhood names. \n",
    "\n",
    "2. City of Pittsburgh Parks - https://data.wprdc.org/dataset/parks\n",
    "\n",
    "The second dataset, City of Pittsburgh Parks, makes up for what the first dataset is missing by including neighborhood names. Other than that, it contains park names, types, as well as their public service divisions. The only features utilized are the park names and neighborhood names.\n"
   ]
  },
  {
   "cell_type": "markdown",
   "metadata": {},
   "source": [
    "**Parks**"
   ]
  },
  {
   "cell_type": "markdown",
   "metadata": {},
   "source": [
    "Parks can substantially improve the quality of life in a neighborhood. They offer multiple benefits, such as providing recreational opportunities, enhancing the beauty of the area, and even boosting property values. The access to parks could also have a positive impact on physical and mental health by offering a place to congregate, exercise, and just enjoy the weather. They provide a safe and accessible space for the community.\n",
    "\n",
    "For these reasons, many individuals and families might prioritize living in neighborhoods with parks, making it a good way to determine the \"best\" neighborhood with the \"best\" quality of life. "
   ]
  },
  {
   "cell_type": "code",
   "execution_count": 1,
   "metadata": {},
   "outputs": [],
   "source": [
    "import pandas as pd\n",
    "import matplotlib.pyplot as plt"
   ]
  },
  {
   "cell_type": "code",
   "execution_count": 7,
   "metadata": {},
   "outputs": [],
   "source": [
    "#https://data.wprdc.org/dataset/parks1/resource/bb57d0a7-e8ee-4218-8906-0dedc903038c\n",
    "parks = pd.read_csv(\"park.csv\")\n",
    "#https://data.wprdc.org/dataset/parks/resource/fa329e3d-89ff-4708-8ddf-81bfedcad11d?inner_span=True\n",
    "parksWithArea = pd.read_csv(\"parksWithArea.csv\")"
   ]
  },
  {
   "cell_type": "markdown",
   "metadata": {},
   "source": [
    "For the metrics, we look at two seperate park-related datasets from WPRDC. The features we care about are the names of the parks, the neighborhoods the parks are located in, and the acreage of each park. \n",
    "\n",
    "One dataset contains neighborhood information, while the other contains acreage, so our process of cleaning ultimately combines the two."
   ]
  },
  {
   "cell_type": "code",
   "execution_count": 8,
   "metadata": {},
   "outputs": [
    {
     "data": {
      "text/html": [
       "<div>\n",
       "<style scoped>\n",
       "    .dataframe tbody tr th:only-of-type {\n",
       "        vertical-align: middle;\n",
       "    }\n",
       "\n",
       "    .dataframe tbody tr th {\n",
       "        vertical-align: top;\n",
       "    }\n",
       "\n",
       "    .dataframe thead th {\n",
       "        text-align: right;\n",
       "    }\n",
       "</style>\n",
       "<table border=\"1\" class=\"dataframe\">\n",
       "  <thead>\n",
       "    <tr style=\"text-align: right;\">\n",
       "      <th></th>\n",
       "      <th>id</th>\n",
       "      <th>name</th>\n",
       "      <th>type</th>\n",
       "      <th>maintenance_responsibility</th>\n",
       "      <th>image</th>\n",
       "      <th>neighborhood</th>\n",
       "      <th>council_district</th>\n",
       "      <th>ward</th>\n",
       "      <th>tract</th>\n",
       "      <th>public_works_division</th>\n",
       "      <th>pli_division</th>\n",
       "      <th>police_zone</th>\n",
       "      <th>fire_zone</th>\n",
       "      <th>latitude</th>\n",
       "      <th>longitude</th>\n",
       "    </tr>\n",
       "  </thead>\n",
       "  <tbody>\n",
       "    <tr>\n",
       "      <th>0</th>\n",
       "      <td>2111959181</td>\n",
       "      <td>Able Long Park</td>\n",
       "      <td>Park</td>\n",
       "      <td>Parks - Southern</td>\n",
       "      <td>https://tools.wprdc.org/images/pittsburgh/park...</td>\n",
       "      <td>Beechview</td>\n",
       "      <td>4</td>\n",
       "      <td>19</td>\n",
       "      <td>42003192000</td>\n",
       "      <td>5</td>\n",
       "      <td>19</td>\n",
       "      <td>6</td>\n",
       "      <td>4-28</td>\n",
       "      <td>40.408118</td>\n",
       "      <td>-80.028197</td>\n",
       "    </tr>\n",
       "    <tr>\n",
       "      <th>1</th>\n",
       "      <td>1109513049</td>\n",
       "      <td>Albert Turk Graham Park</td>\n",
       "      <td>Park</td>\n",
       "      <td>Parks - Schenley</td>\n",
       "      <td>https://tools.wprdc.org/images/pittsburgh/park...</td>\n",
       "      <td>Crawford-Roberts</td>\n",
       "      <td>6</td>\n",
       "      <td>3</td>\n",
       "      <td>42003030500</td>\n",
       "      <td>3</td>\n",
       "      <td>3</td>\n",
       "      <td>2</td>\n",
       "      <td>2-1</td>\n",
       "      <td>40.440507</td>\n",
       "      <td>-79.984018</td>\n",
       "    </tr>\n",
       "    <tr>\n",
       "      <th>2</th>\n",
       "      <td>1544096765</td>\n",
       "      <td>Alcoa Park</td>\n",
       "      <td>Park</td>\n",
       "      <td>Parks - Northern</td>\n",
       "      <td>NaN</td>\n",
       "      <td>North Shore</td>\n",
       "      <td>1</td>\n",
       "      <td>22</td>\n",
       "      <td>42003563200</td>\n",
       "      <td>6</td>\n",
       "      <td>22</td>\n",
       "      <td>1</td>\n",
       "      <td>1-20</td>\n",
       "      <td>40.447481</td>\n",
       "      <td>-80.001017</td>\n",
       "    </tr>\n",
       "    <tr>\n",
       "      <th>3</th>\n",
       "      <td>1212681573</td>\n",
       "      <td>Allegheny Commons</td>\n",
       "      <td>Park</td>\n",
       "      <td>Parks - Northern</td>\n",
       "      <td>NaN</td>\n",
       "      <td>Allegheny Center</td>\n",
       "      <td>1</td>\n",
       "      <td>22</td>\n",
       "      <td>42003562700</td>\n",
       "      <td>1</td>\n",
       "      <td>22</td>\n",
       "      <td>1</td>\n",
       "      <td>1-7</td>\n",
       "      <td>40.453126</td>\n",
       "      <td>-80.009158</td>\n",
       "    </tr>\n",
       "    <tr>\n",
       "      <th>4</th>\n",
       "      <td>954863286</td>\n",
       "      <td>Allegheny Landing Park</td>\n",
       "      <td>Park</td>\n",
       "      <td>Parks - Northern</td>\n",
       "      <td>NaN</td>\n",
       "      <td>North Shore</td>\n",
       "      <td>1</td>\n",
       "      <td>22</td>\n",
       "      <td>42003563200</td>\n",
       "      <td>6</td>\n",
       "      <td>22</td>\n",
       "      <td>1</td>\n",
       "      <td>1-20</td>\n",
       "      <td>40.447184</td>\n",
       "      <td>-80.002907</td>\n",
       "    </tr>\n",
       "  </tbody>\n",
       "</table>\n",
       "</div>"
      ],
      "text/plain": [
       "           id                     name  type maintenance_responsibility   \n",
       "0  2111959181           Able Long Park  Park           Parks - Southern  \\\n",
       "1  1109513049  Albert Turk Graham Park  Park           Parks - Schenley   \n",
       "2  1544096765               Alcoa Park  Park           Parks - Northern   \n",
       "3  1212681573        Allegheny Commons  Park           Parks - Northern   \n",
       "4   954863286   Allegheny Landing Park  Park           Parks - Northern   \n",
       "\n",
       "                                               image      neighborhood   \n",
       "0  https://tools.wprdc.org/images/pittsburgh/park...         Beechview  \\\n",
       "1  https://tools.wprdc.org/images/pittsburgh/park...  Crawford-Roberts   \n",
       "2                                                NaN       North Shore   \n",
       "3                                                NaN  Allegheny Center   \n",
       "4                                                NaN       North Shore   \n",
       "\n",
       "   council_district  ward        tract  public_works_division  pli_division   \n",
       "0                 4    19  42003192000                      5            19  \\\n",
       "1                 6     3  42003030500                      3             3   \n",
       "2                 1    22  42003563200                      6            22   \n",
       "3                 1    22  42003562700                      1            22   \n",
       "4                 1    22  42003563200                      6            22   \n",
       "\n",
       "   police_zone fire_zone   latitude  longitude  \n",
       "0            6      4-28  40.408118 -80.028197  \n",
       "1            2       2-1  40.440507 -79.984018  \n",
       "2            1      1-20  40.447481 -80.001017  \n",
       "3            1       1-7  40.453126 -80.009158  \n",
       "4            1      1-20  40.447184 -80.002907  "
      ]
     },
     "execution_count": 8,
     "metadata": {},
     "output_type": "execute_result"
    }
   ],
   "source": [
    "parks.head()"
   ]
  },
  {
   "cell_type": "code",
   "execution_count": 9,
   "metadata": {},
   "outputs": [
    {
     "data": {
      "text/html": [
       "<div>\n",
       "<style scoped>\n",
       "    .dataframe tbody tr th:only-of-type {\n",
       "        vertical-align: middle;\n",
       "    }\n",
       "\n",
       "    .dataframe tbody tr th {\n",
       "        vertical-align: top;\n",
       "    }\n",
       "\n",
       "    .dataframe thead th {\n",
       "        text-align: right;\n",
       "    }\n",
       "</style>\n",
       "<table border=\"1\" class=\"dataframe\">\n",
       "  <thead>\n",
       "    <tr style=\"text-align: right;\">\n",
       "      <th></th>\n",
       "      <th>objectid_1</th>\n",
       "      <th>objectid</th>\n",
       "      <th>acreage</th>\n",
       "      <th>sqft</th>\n",
       "      <th>final_cat</th>\n",
       "      <th>type</th>\n",
       "      <th>sector</th>\n",
       "      <th>origpkname</th>\n",
       "      <th>updatepknm</th>\n",
       "      <th>alterntnam</th>\n",
       "      <th>...</th>\n",
       "      <th>globalid</th>\n",
       "      <th>created_user</th>\n",
       "      <th>created_date</th>\n",
       "      <th>last_edited_user</th>\n",
       "      <th>last_edited_date</th>\n",
       "      <th>maintenanceresponsibility</th>\n",
       "      <th>dpw_ac</th>\n",
       "      <th>globalid_1</th>\n",
       "      <th>shape_area</th>\n",
       "      <th>shape_length</th>\n",
       "    </tr>\n",
       "  </thead>\n",
       "  <tbody>\n",
       "    <tr>\n",
       "      <th>0</th>\n",
       "      <td>1202</td>\n",
       "      <td>36</td>\n",
       "      <td>0.959034</td>\n",
       "      <td>41775.367101</td>\n",
       "      <td>Neighborhood Park</td>\n",
       "      <td>NP</td>\n",
       "      <td>15</td>\n",
       "      <td>Cliffside Parklet</td>\n",
       "      <td>August Wilson Park</td>\n",
       "      <td>Cliffside Park</td>\n",
       "      <td>...</td>\n",
       "      <td>764d9a2f-719c-49c2-b747-8f276149bf04</td>\n",
       "      <td>pgh.dcp.allisot</td>\n",
       "      <td>2023-03-21T14:04:58.979000+00:00</td>\n",
       "      <td>pgh.dcp.allisot</td>\n",
       "      <td>2023-03-21T14:04:58.979000+00:00</td>\n",
       "      <td>Parks - Schenley</td>\n",
       "      <td>0.959034</td>\n",
       "      <td>f781af9c-9ec2-4b5e-b5c5-9cc21608635c</td>\n",
       "      <td>6709.199219</td>\n",
       "      <td>390.397012</td>\n",
       "    </tr>\n",
       "    <tr>\n",
       "      <th>1</th>\n",
       "      <td>1203</td>\n",
       "      <td>198</td>\n",
       "      <td>2.060117</td>\n",
       "      <td>89738.347520</td>\n",
       "      <td>Neighborhood Park</td>\n",
       "      <td>NP</td>\n",
       "      <td>2</td>\n",
       "      <td>Young Field</td>\n",
       "      <td>Young Field Park</td>\n",
       "      <td>Young Park</td>\n",
       "      <td>...</td>\n",
       "      <td>9b969f67-1f2e-4f4b-8556-e4ac49ca208e</td>\n",
       "      <td>pgh.dcp.allisot</td>\n",
       "      <td>2023-03-21T14:04:58.979000+00:00</td>\n",
       "      <td>pgh.dcp.allisot</td>\n",
       "      <td>2023-03-21T14:04:58.979000+00:00</td>\n",
       "      <td>Parks - Riverview</td>\n",
       "      <td>2.060117</td>\n",
       "      <td>659c4c55-50fc-4883-8606-76f029fcca47</td>\n",
       "      <td>14423.417969</td>\n",
       "      <td>511.980181</td>\n",
       "    </tr>\n",
       "    <tr>\n",
       "      <th>2</th>\n",
       "      <td>1204</td>\n",
       "      <td>158</td>\n",
       "      <td>0.468682</td>\n",
       "      <td>20415.724875</td>\n",
       "      <td>Neighborhood Park</td>\n",
       "      <td>NP</td>\n",
       "      <td>8</td>\n",
       "      <td>Revenue Park</td>\n",
       "      <td>Roland Lockridge Community Park</td>\n",
       "      <td>Roland Lockridge Community Park</td>\n",
       "      <td>...</td>\n",
       "      <td>44bbbdf5-c2db-451c-b880-9251b8211455</td>\n",
       "      <td>pgh.dcp.allisot</td>\n",
       "      <td>2023-03-21T14:04:58.979000+00:00</td>\n",
       "      <td>pgh.dcp.allisot</td>\n",
       "      <td>2023-03-21T14:04:58.979000+00:00</td>\n",
       "      <td>Parks - Frick</td>\n",
       "      <td>0.468682</td>\n",
       "      <td>04e61cab-bea6-47dd-964a-0723197726cf</td>\n",
       "      <td>3273.722656</td>\n",
       "      <td>236.488235</td>\n",
       "    </tr>\n",
       "    <tr>\n",
       "      <th>3</th>\n",
       "      <td>1205</td>\n",
       "      <td>72</td>\n",
       "      <td>1.955430</td>\n",
       "      <td>85178.182207</td>\n",
       "      <td>Neighborhood Park</td>\n",
       "      <td>NP</td>\n",
       "      <td>12</td>\n",
       "      <td>Friendship Park</td>\n",
       "      <td>Friendship Park</td>\n",
       "      <td>Friendship Park</td>\n",
       "      <td>...</td>\n",
       "      <td>f95cbafc-dcd8-493f-8b98-89745c6434ca</td>\n",
       "      <td>pgh.dcp.allisot</td>\n",
       "      <td>2023-03-21T14:04:58.979000+00:00</td>\n",
       "      <td>pgh.dcp.allisot</td>\n",
       "      <td>2023-03-21T14:04:58.979000+00:00</td>\n",
       "      <td>Parks - Highland</td>\n",
       "      <td>1.955430</td>\n",
       "      <td>22563a68-61d3-46f3-9d5c-4558ee12be1f</td>\n",
       "      <td>13686.265625</td>\n",
       "      <td>760.982871</td>\n",
       "    </tr>\n",
       "    <tr>\n",
       "      <th>4</th>\n",
       "      <td>1206</td>\n",
       "      <td>87</td>\n",
       "      <td>5.108070</td>\n",
       "      <td>222506.623799</td>\n",
       "      <td>Neighborhood Park</td>\n",
       "      <td>NP</td>\n",
       "      <td>12</td>\n",
       "      <td>Heths Playground</td>\n",
       "      <td>Heth's Park</td>\n",
       "      <td>Heth's Park</td>\n",
       "      <td>...</td>\n",
       "      <td>a6a4ac92-5a00-4af5-9f11-716e51079fea</td>\n",
       "      <td>pgh.dcp.allisot</td>\n",
       "      <td>2023-03-21T14:04:58.979000+00:00</td>\n",
       "      <td>pgh.dcp.allisot</td>\n",
       "      <td>2023-03-21T14:04:58.979000+00:00</td>\n",
       "      <td>Parks - Highland</td>\n",
       "      <td>5.108070</td>\n",
       "      <td>b5b34833-e1d5-430f-afcc-40a1670d545d</td>\n",
       "      <td>35767.898438</td>\n",
       "      <td>875.156997</td>\n",
       "    </tr>\n",
       "  </tbody>\n",
       "</table>\n",
       "<p>5 rows × 22 columns</p>\n",
       "</div>"
      ],
      "text/plain": [
       "   objectid_1  objectid   acreage           sqft          final_cat type   \n",
       "0        1202        36  0.959034   41775.367101  Neighborhood Park   NP  \\\n",
       "1        1203       198  2.060117   89738.347520  Neighborhood Park   NP   \n",
       "2        1204       158  0.468682   20415.724875  Neighborhood Park   NP   \n",
       "3        1205        72  1.955430   85178.182207  Neighborhood Park   NP   \n",
       "4        1206        87  5.108070  222506.623799  Neighborhood Park   NP   \n",
       "\n",
       "   sector         origpkname                       updatepknm   \n",
       "0      15  Cliffside Parklet               August Wilson Park  \\\n",
       "1       2        Young Field                 Young Field Park   \n",
       "2       8       Revenue Park  Roland Lockridge Community Park   \n",
       "3      12    Friendship Park                  Friendship Park   \n",
       "4      12   Heths Playground                      Heth's Park   \n",
       "\n",
       "                        alterntnam  ...                              globalid   \n",
       "0                   Cliffside Park  ...  764d9a2f-719c-49c2-b747-8f276149bf04  \\\n",
       "1                       Young Park  ...  9b969f67-1f2e-4f4b-8556-e4ac49ca208e   \n",
       "2  Roland Lockridge Community Park  ...  44bbbdf5-c2db-451c-b880-9251b8211455   \n",
       "3                  Friendship Park  ...  f95cbafc-dcd8-493f-8b98-89745c6434ca   \n",
       "4                      Heth's Park  ...  a6a4ac92-5a00-4af5-9f11-716e51079fea   \n",
       "\n",
       "      created_user                      created_date last_edited_user   \n",
       "0  pgh.dcp.allisot  2023-03-21T14:04:58.979000+00:00  pgh.dcp.allisot  \\\n",
       "1  pgh.dcp.allisot  2023-03-21T14:04:58.979000+00:00  pgh.dcp.allisot   \n",
       "2  pgh.dcp.allisot  2023-03-21T14:04:58.979000+00:00  pgh.dcp.allisot   \n",
       "3  pgh.dcp.allisot  2023-03-21T14:04:58.979000+00:00  pgh.dcp.allisot   \n",
       "4  pgh.dcp.allisot  2023-03-21T14:04:58.979000+00:00  pgh.dcp.allisot   \n",
       "\n",
       "                   last_edited_date maintenanceresponsibility    dpw_ac   \n",
       "0  2023-03-21T14:04:58.979000+00:00          Parks - Schenley  0.959034  \\\n",
       "1  2023-03-21T14:04:58.979000+00:00         Parks - Riverview  2.060117   \n",
       "2  2023-03-21T14:04:58.979000+00:00             Parks - Frick  0.468682   \n",
       "3  2023-03-21T14:04:58.979000+00:00          Parks - Highland  1.955430   \n",
       "4  2023-03-21T14:04:58.979000+00:00          Parks - Highland  5.108070   \n",
       "\n",
       "                             globalid_1    shape_area shape_length  \n",
       "0  f781af9c-9ec2-4b5e-b5c5-9cc21608635c   6709.199219   390.397012  \n",
       "1  659c4c55-50fc-4883-8606-76f029fcca47  14423.417969   511.980181  \n",
       "2  04e61cab-bea6-47dd-964a-0723197726cf   3273.722656   236.488235  \n",
       "3  22563a68-61d3-46f3-9d5c-4558ee12be1f  13686.265625   760.982871  \n",
       "4  b5b34833-e1d5-430f-afcc-40a1670d545d  35767.898438   875.156997  \n",
       "\n",
       "[5 rows x 22 columns]"
      ]
     },
     "execution_count": 9,
     "metadata": {},
     "output_type": "execute_result"
    }
   ],
   "source": [
    "parksWithArea.head()"
   ]
  },
  {
   "cell_type": "code",
   "execution_count": 10,
   "metadata": {},
   "outputs": [],
   "source": [
    "#cleaning \n",
    "\n",
    "parks = parks.loc[parks.type==\"Park\"]\n",
    "parks = parks[['name','neighborhood']]\n",
    "\n",
    "parksWithArea = parksWithArea[['origpkname','updatepknm','alterntnam','acreage']]\n",
    "\n",
    "#merging parks with similar dataframe that includes area, left-merge to keep neighborhood names, dropna only removes 3\n",
    "#so it's inconsequential\n",
    "\n",
    "parks = pd.merge(left=parks, right=parksWithArea, how='left', left_on='name', right_on='updatepknm')\n",
    "parks = parks[['name','neighborhood','acreage']]\n",
    "parks = parks.dropna()"
   ]
  },
  {
   "cell_type": "markdown",
   "metadata": {},
   "source": [
    "The following graph shows the top 10 neighborhoods based on their total park acreage. By identifying the neighborhoods with the most park acreage, we can see which neighborhoods stand out as having significantly more, as well as generally understand which neighborhoods should be looked at for other metrics."
   ]
  },
  {
   "cell_type": "code",
   "execution_count": 11,
   "metadata": {},
   "outputs": [
    {
     "data": {
      "text/plain": [
       "<Axes: title={'center': 'Top 10 Neighborhoods by Total Park Acreage'}, xlabel='Neighborhoods', ylabel='# of Park Acres'>"
      ]
     },
     "execution_count": 11,
     "metadata": {},
     "output_type": "execute_result"
    },
    {
     "data": {
      "image/png": "[encoded data removed]",
      "text/plain": [
       "<Figure size 640x480 with 1 Axes>"
      ]
     },
     "metadata": {},
     "output_type": "display_data"
    }
   ],
   "source": [
    "parks.groupby('neighborhood')['acreage'].sum().nlargest(10).plot(kind=\"bar\",\n",
    "                                                                title=\"Top 10 Neighborhoods by Total Park Acreage\",\n",
    "                                                                xlabel=\"Neighborhoods\",\n",
    "                                                                ylabel=\"# of Park Acres\")"
   ]
  },
  {
   "cell_type": "markdown",
   "metadata": {},
   "source": [
    "The following graph shows the top 10 neighborhoods based on total number of parks. Unlike the previous metric, this graph doesn't allow for the neighborhoods with very large parks to stand out. Multiple different parks can give residents more options, as well as ensure that every resident has a park near them instead of just distant large ones. "
   ]
  },
  {
   "cell_type": "code",
   "execution_count": 12,
   "metadata": {},
   "outputs": [
    {
     "data": {
      "text/plain": [
       "<Axes: title={'center': 'Top 10 Neighborhoods by Total # of Parks'}, xlabel='Neighborhoods', ylabel='Total # of Parks'>"
      ]
     },
     "execution_count": 12,
     "metadata": {},
     "output_type": "execute_result"
    },
    {
     "data": {
      "image/png": "[encoded data removed]",
      "text/plain": [
       "<Figure size 640x480 with 1 Axes>"
      ]
     },
     "metadata": {},
     "output_type": "display_data"
    }
   ],
   "source": [
    "parks.groupby('neighborhood')['name'].count().nlargest(10).plot(kind=\"bar\",\n",
    "                                                               title=\"Top 10 Neighborhoods by Total # of Parks\",\n",
    "                                                               xlabel=\"Neighborhoods\",\n",
    "                                                               ylabel=\"Total # of Parks\")"
   ]
  },
  {
   "cell_type": "markdown",
   "metadata": {},
   "source": [
    "By looking at both of these graphs, we see that the following neighborhoods are top 10 both in park quantity and park acreage:\n",
    "\n",
    "In acreage order:\n",
    "1. Beltzhoover 6\n",
    "2. South Side Slopes 4\n",
    "3. Mount Washington 6\n",
    "4. Sheraden 8\n",
    "5. Beechview 6\n",
    "\n",
    "In park # order:\n",
    "1. Beechview\n",
    "2. South Side Slopes\n",
    "3. Mount Washington\n",
    "4. Sheraden\n",
    "5. Beltzhoover\n",
    "\n",
    "By assigning each of these neighborhoods a number based on their order in both graphs, we can combine the numbers and determine a new order (with a lower number being ideal):\n",
    "\n",
    "1. South Side Slopes\n",
    "2. Beltzhoover\n",
    "2. Mount Washington\n",
    "2. Beechview\n",
    "3. Sheraden\n",
    "\n",
    "Beltzhoover, Mount Washington, and Beechview all tie for second. \n",
    "\n",
    "Based on this data, these 5 neighborhoods should be highly considered when looking at other metrics to determine the single neighborhood with the best quality of living."
   ]
  },
  {
   "cell_type": "markdown",
   "metadata": {},
   "source": [
    "## Crime submetric\n",
    "Crime dataset - https://data.wprdc.org/dataset/uniform-crime-reporting-data/resource/044f2016-1dfd-4ab0-bc1e-065da05fca2e \n",
    "\n",
    "This data set is record of every singled crime that happned in pittsburgh neighborhoodssince 2016. There data holds information about the crime id, waht neigborhood, what the time was, what the date was, what the crime was, and longitude and lattitude.\n"
   ]
  },
  {
   "cell_type": "markdown",
   "metadata": {},
   "source": [
    "One of the biggest things to look for when searching for a neighborhood for a future home is how safe it is. Finding a neighborhood with a low amount of crime is better for a person and their family's safety. Living in a home knowing that you and your family is safe leaves people with a peaceful mind contributing to a better quality of life."
   ]
  },
  {
   "cell_type": "code",
   "execution_count": 3,
   "metadata": {},
   "outputs": [
    {
     "data": {
      "text/html": [
       "<div>\n",
       "<style scoped>\n",
       "    .dataframe tbody tr th:only-of-type {\n",
       "        vertical-align: middle;\n",
       "    }\n",
       "\n",
       "    .dataframe tbody tr th {\n",
       "        vertical-align: top;\n",
       "    }\n",
       "\n",
       "    .dataframe thead th {\n",
       "        text-align: right;\n",
       "    }\n",
       "</style>\n",
       "<table border=\"1\" class=\"dataframe\">\n",
       "  <thead>\n",
       "    <tr style=\"text-align: right;\">\n",
       "      <th></th>\n",
       "      <th>PK</th>\n",
       "      <th>CCR</th>\n",
       "      <th>HIERARCHY</th>\n",
       "      <th>INCIDENTTIME</th>\n",
       "      <th>INCIDENTLOCATION</th>\n",
       "      <th>CLEAREDFLAG</th>\n",
       "      <th>INCIDENTNEIGHBORHOOD</th>\n",
       "      <th>INCIDENTZONE</th>\n",
       "      <th>INCIDENTHIERARCHYDESC</th>\n",
       "      <th>OFFENSES</th>\n",
       "      <th>INCIDENTTRACT</th>\n",
       "      <th>COUNCIL_DISTRICT</th>\n",
       "      <th>PUBLIC_WORKS_DIVISION</th>\n",
       "      <th>X</th>\n",
       "      <th>Y</th>\n",
       "    </tr>\n",
       "  </thead>\n",
       "  <tbody>\n",
       "    <tr>\n",
       "      <th>0</th>\n",
       "      <td>2802309</td>\n",
       "      <td>16000001.0</td>\n",
       "      <td>10</td>\n",
       "      <td>2016-01-01T00:00:00</td>\n",
       "      <td>400 Block North Shore DR Pittsburgh, PA 15212</td>\n",
       "      <td>Y</td>\n",
       "      <td>North Shore</td>\n",
       "      <td>1</td>\n",
       "      <td>HARRASSMENT/THREAT/ATTEMPT/PHY</td>\n",
       "      <td>2702 Aggravated Assault. / 2709(a) Harassment....</td>\n",
       "      <td>2205.0</td>\n",
       "      <td>1.0</td>\n",
       "      <td>6.0</td>\n",
       "      <td>-80.012337</td>\n",
       "      <td>40.446263</td>\n",
       "    </tr>\n",
       "    <tr>\n",
       "      <th>1</th>\n",
       "      <td>2803174</td>\n",
       "      <td>16004547.0</td>\n",
       "      <td>11</td>\n",
       "      <td>2016-01-01T00:01:00</td>\n",
       "      <td>5400 Block Carnegie ST Pittsburgh, PA 15201</td>\n",
       "      <td>N</td>\n",
       "      <td>Upper Lawrenceville</td>\n",
       "      <td>2</td>\n",
       "      <td>THEFT BY DECEPTION</td>\n",
       "      <td>3922 Theft by Deception.</td>\n",
       "      <td>1011.0</td>\n",
       "      <td>7.0</td>\n",
       "      <td>2.0</td>\n",
       "      <td>-79.950295</td>\n",
       "      <td>40.482290</td>\n",
       "    </tr>\n",
       "    <tr>\n",
       "      <th>2</th>\n",
       "      <td>2801809</td>\n",
       "      <td>16000367.0</td>\n",
       "      <td>4</td>\n",
       "      <td>2016-01-01T00:10:00</td>\n",
       "      <td>500 Block Mt Pleasant RD Pittsburgh, PA 15214</td>\n",
       "      <td>N</td>\n",
       "      <td>Northview Heights</td>\n",
       "      <td>1</td>\n",
       "      <td>DISCHARGE OF FIREARM INTO OCC.STRUCTURE</td>\n",
       "      <td>2707.1 Discharge of a Firearm into Occupied St...</td>\n",
       "      <td>2609.0</td>\n",
       "      <td>1.0</td>\n",
       "      <td>1.0</td>\n",
       "      <td>-80.000966</td>\n",
       "      <td>40.478651</td>\n",
       "    </tr>\n",
       "    <tr>\n",
       "      <th>3</th>\n",
       "      <td>2802315</td>\n",
       "      <td>16000035.0</td>\n",
       "      <td>10</td>\n",
       "      <td>2016-01-01T00:15:00</td>\n",
       "      <td>300 Block Wood ST Pittsburgh, PA 15222</td>\n",
       "      <td>Y</td>\n",
       "      <td>Golden Triangle/Civic Arena</td>\n",
       "      <td>2</td>\n",
       "      <td>HARRASSMENT/THREAT/ATTEMPT/PHY</td>\n",
       "      <td>2709(a)(3) Harassment No Legitimate Purpose</td>\n",
       "      <td>201.0</td>\n",
       "      <td>6.0</td>\n",
       "      <td>6.0</td>\n",
       "      <td>-80.001251</td>\n",
       "      <td>40.438918</td>\n",
       "    </tr>\n",
       "    <tr>\n",
       "      <th>4</th>\n",
       "      <td>2802312</td>\n",
       "      <td>16000024.0</td>\n",
       "      <td>4</td>\n",
       "      <td>2016-01-01T00:16:00</td>\n",
       "      <td>500 Block Mt Pleasant RD Pittsburgh, PA 15214</td>\n",
       "      <td>N</td>\n",
       "      <td>Northview Heights</td>\n",
       "      <td>1</td>\n",
       "      <td>PROP MISSILE INTO OCC VEHICLE/OR ROADWAY</td>\n",
       "      <td>2705 Recklessy Endangering Another Person. / 3...</td>\n",
       "      <td>2609.0</td>\n",
       "      <td>1.0</td>\n",
       "      <td>1.0</td>\n",
       "      <td>-80.000966</td>\n",
       "      <td>40.478651</td>\n",
       "    </tr>\n",
       "  </tbody>\n",
       "</table>\n",
       "</div>"
      ],
      "text/plain": [
       "        PK         CCR  HIERARCHY         INCIDENTTIME  \\\n",
       "0  2802309  16000001.0         10  2016-01-01T00:00:00   \n",
       "1  2803174  16004547.0         11  2016-01-01T00:01:00   \n",
       "2  2801809  16000367.0          4  2016-01-01T00:10:00   \n",
       "3  2802315  16000035.0         10  2016-01-01T00:15:00   \n",
       "4  2802312  16000024.0          4  2016-01-01T00:16:00   \n",
       "\n",
       "                                INCIDENTLOCATION CLEAREDFLAG  \\\n",
       "0  400 Block North Shore DR Pittsburgh, PA 15212           Y   \n",
       "1    5400 Block Carnegie ST Pittsburgh, PA 15201           N   \n",
       "2  500 Block Mt Pleasant RD Pittsburgh, PA 15214           N   \n",
       "3         300 Block Wood ST Pittsburgh, PA 15222           Y   \n",
       "4  500 Block Mt Pleasant RD Pittsburgh, PA 15214           N   \n",
       "\n",
       "          INCIDENTNEIGHBORHOOD INCIDENTZONE  \\\n",
       "0                  North Shore            1   \n",
       "1          Upper Lawrenceville            2   \n",
       "2            Northview Heights            1   \n",
       "3  Golden Triangle/Civic Arena            2   \n",
       "4            Northview Heights            1   \n",
       "\n",
       "                      INCIDENTHIERARCHYDESC  \\\n",
       "0            HARRASSMENT/THREAT/ATTEMPT/PHY   \n",
       "1                        THEFT BY DECEPTION   \n",
       "2   DISCHARGE OF FIREARM INTO OCC.STRUCTURE   \n",
       "3            HARRASSMENT/THREAT/ATTEMPT/PHY   \n",
       "4  PROP MISSILE INTO OCC VEHICLE/OR ROADWAY   \n",
       "\n",
       "                                            OFFENSES  INCIDENTTRACT  \\\n",
       "0  2702 Aggravated Assault. / 2709(a) Harassment....         2205.0   \n",
       "1                           3922 Theft by Deception.         1011.0   \n",
       "2  2707.1 Discharge of a Firearm into Occupied St...         2609.0   \n",
       "3        2709(a)(3) Harassment No Legitimate Purpose          201.0   \n",
       "4  2705 Recklessy Endangering Another Person. / 3...         2609.0   \n",
       "\n",
       "   COUNCIL_DISTRICT  PUBLIC_WORKS_DIVISION          X          Y  \n",
       "0               1.0                    6.0 -80.012337  40.446263  \n",
       "1               7.0                    2.0 -79.950295  40.482290  \n",
       "2               1.0                    1.0 -80.000966  40.478651  \n",
       "3               6.0                    6.0 -80.001251  40.438918  \n",
       "4               1.0                    1.0 -80.000966  40.478651  "
      ]
     },
     "execution_count": 3,
     "metadata": {},
     "output_type": "execute_result"
    }
   ],
   "source": [
    "crime = pd.read_csv(\"044f2016-1dfd-4ab0-bc1e-065da05fca2e.csv\")\n",
    "\n",
    "crime.head()"
   ]
  },
  {
   "cell_type": "code",
   "execution_count": 4,
   "metadata": {},
   "outputs": [
    {
     "name": "stdout",
     "output_type": "stream",
     "text": [
      "{'North Shore': 3424, 'Upper Lawrenceville': 1529, 'Northview Heights': 2462, 'Golden Triangle/Civic Arena': 4278, 'South Side Flats': 17627, 'Elliott': 2407, 'Homewood North': 6134, 'South Side Slopes': 3971, 'Carrick': 10945, 'South Oakland': 2223, nan: 6330, 'Bloomfield': 8150, 'Beechview': 5262, 'Bluff': 4330, 'Strip District': 3140, 'Mount Washington': 7053, 'East Carnegie': 389, 'Crafton Heights': 2611, 'Marshall-Shadeland': 5207, 'East Liberty': 7649, 'East Allegheny': 5569, 'Friendship': 1531, 'Arlington': 1973, 'Central Northside': 786, 'Spring Hill-City View': 2290, 'Brighton Heights': 5810, 'Westwood': 1536, 'East Hills': 4697, 'Brookline': 7130, 'South Shore': 1153, 'Lower Lawrenceville': 2380, 'Bedford Dwellings': 2432, 'Troy Hill-Herrs Island': 252, 'Central Oakland': 4879, 'Garfield': 3250, 'West End': 1162, 'West Oakland': 1809, 'Central Lawrenceville': 4104, 'Lincoln-Lemington-Belmar': 6272, 'Sheraden': 5596, 'Beltzhoover': 1928, 'Outside City': 2041, 'Squirrel Hill South': 7135, 'North Oakland': 4374, 'Allentown': 4896, 'Perry North': 2964, 'Homewood South': 6790, 'Shadyside': 8038, 'Manchester': 2078, 'Squirrel Hill North': 3785, 'Regent Square': 530, 'Homewood West': 2633, 'Allegheny Center': 3396, 'Highland Park': 4217, 'Middle Hill': 3806, 'Overbrook': 2103, 'Hazelwood': 5071, 'Greenfield': 3379, 'Morningside': 1446, 'Knoxville': 5974, 'Point Breeze': 2900, 'Duquesne Heights': 1081, 'Perry South': 3913, 'California-Kirkbride': 1697, 'Banksville': 1634, 'Point Breeze North': 2445, 'Bon Air': 1185, 'Polish Hill': 1016, 'Lincoln Place': 1558, 'Fineview': 1661, 'Spring Garden': 866, 'Larimer': 3600, 'Esplen': 649, 'Terrace Village': 1318, 'Allegheny West': 1026, 'Crawford-Roberts': 3704, 'Windgap': 825, 'Stanton Heights': 1753, 'Glen Hazel': 730, 'Upper Hill': 1815, 'Hays': 518, 'Ridgemont': 282, 'Oakwood': 583, 'Outside State': 344, 'Chateau': 2592, 'Swisshelm Park': 411, 'Outside County': 226, 'Fairywood': 753, 'Chartiers City': 311, 'Arlington Heights': 522, 'St. Clair': 634, 'Summer Hill': 488, 'Mt. Oliver Neighborhood': 117, 'New Homestead': 327, 'Mt. Oliver Boro': 94, 'Central Business District': 17353, 'Troy Hill': 1937, 'Central North Side': 2945, 'Mount Oliver': 480}\n"
     ]
    }
   ],
   "source": [
    "# Calculating how many crime have happened in each neighborhood\n",
    "crimeCount = dict()\n",
    "i = 0\n",
    "while i < len(crime):\n",
    "    neighborhood = crime.loc[i,'INCIDENTNEIGHBORHOOD']\n",
    "    if neighborhood in crimeCount.keys():\n",
    "        crimeCount[neighborhood] += 1\n",
    "    else: \n",
    "        crimeCount[neighborhood] = 1\n",
    "    i += 1\n",
    "\n",
    "print(crimeCount)"
   ]
  },
  {
   "cell_type": "code",
   "execution_count": 5,
   "metadata": {},
   "outputs": [
    {
     "name": "stdout",
     "output_type": "stream",
     "text": [
      "                            0      1\n",
      "0             Mt. Oliver Boro     94\n",
      "1     Mt. Oliver Neighborhood    117\n",
      "2              Outside County    226\n",
      "3      Troy Hill-Herrs Island    252\n",
      "4                   Ridgemont    282\n",
      "..                        ...    ...\n",
      "94                  Shadyside   8038\n",
      "95                 Bloomfield   8150\n",
      "96                    Carrick  10945\n",
      "97  Central Business District  17353\n",
      "98           South Side Flats  17627\n",
      "\n",
      "[99 rows x 2 columns]\n"
     ]
    }
   ],
   "source": [
    "sort = dict(sorted(crimeCount.items(), key=lambda item: item[1]))\n",
    "df = pd.DataFrame.from_dict(sort.items())\n",
    "print(df)"
   ]
  },
  {
   "cell_type": "code",
   "execution_count": 6,
   "metadata": {},
   "outputs": [
    {
     "data": {
      "text/plain": [
       "<matplotlib.axes._subplots.AxesSubplot at 0x7ff9254796a0>"
      ]
     },
     "execution_count": 6,
     "metadata": {},
     "output_type": "execute_result"
    },
    {
     "data": {
      "image/png": "[encoded data removed]",
      "text/plain": [
       "<Figure size 432x288 with 1 Axes>"
      ]
     },
     "metadata": {
      "needs_background": "light"
     },
     "output_type": "display_data"
    }
   ],
   "source": [
    "df.groupby(0)[1].sum().nsmallest(5).plot(kind = \"bar\", ylim = (0, 20000), xlabel = \"Neighborhoods\", ylabel = \"# of crimes\", title = \"Top 5 Neighborhoods with the Least Amount of Crimes\")"
   ]
  },
  {
   "cell_type": "code",
   "execution_count": 7,
   "metadata": {},
   "outputs": [
    {
     "data": {
      "text/plain": [
       "<matplotlib.axes._subplots.AxesSubplot at 0x7ff9248230a0>"
      ]
     },
     "execution_count": 7,
     "metadata": {},
     "output_type": "execute_result"
    },
    {
     "data": {
      "image/png": "[encoded data removed]",
      "text/plain": [
       "<Figure size 432x288 with 1 Axes>"
      ]
     },
     "metadata": {
      "needs_background": "light"
     },
     "output_type": "display_data"
    }
   ],
   "source": [
    "df.groupby(0)[1].sum().nlargest(5).plot(kind =\"bar\", ylim = (0, 20000), xlabel = \"Neighborhoods\", ylabel = \"# of crimes\", title = \"Top 5 Neighborhoods with the Most Amount of Crimes\")"
   ]
  },
  {
   "cell_type": "markdown",
   "metadata": {},
   "source": [
    "As seen from the graphs there is a large difference between number of crimes between the neighborhoods.\n",
    "The 5 neighborhoods with least amount of crimes in order are:\n",
    "1. Mt. Oliver Boro\n",
    "2. Mt. Oliver Neighborhood\n",
    "3. Outside County\n",
    "4. Troy Hill-Herrs Island\n",
    "5. Ridgemont\n",
    "\n",
    "These 5 are the best when it comes to fewest amounts of crime."
   ]
  },
  {
   "cell_type": "markdown",
   "metadata": {},
   "source": [
    "# The Best Neighborhood\n",
    "Apply the metric from the previous section to determine the best neighborhood in Pittsburgh. Beyond just executing code, provide a narrative about why you think this is the best neighborhood. Incorporate a data visualization, perhaps to rank all of the neighborhoods or show a neighborhood’s best-ness over time. The key is to make a data driven argument.z"
   ]
  },
  {
   "cell_type": "markdown",
   "metadata": {},
   "source": [
    "# Conclusion\n",
    "Reflect on how the data driven determination of “best neighborhood” is the same or different from your personal favorite neighborhood. Each member of the group should write their own response to this."
   ]
  }
 ],
 "metadata": {
  "kernelspec": {
   "display_name": "Python 3",
   "language": "python",
   "name": "python3"
  },
  "language_info": {
   "codemirror_mode": {
    "name": "ipython",
    "version": 3
   },
   "file_extension": ".py",
   "mimetype": "text/x-python",
   "name": "python",
   "nbconvert_exporter": "python",
   "pygments_lexer": "ipython3",
   "version": "3.8.3"
  }
 },
 "nbformat": 4,
 "nbformat_minor": 5
}
